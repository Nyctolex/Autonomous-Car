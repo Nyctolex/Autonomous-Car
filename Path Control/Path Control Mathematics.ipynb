{
 "cells": [
  {
   "cell_type": "code",
   "execution_count": 176,
   "id": "26165670",
   "metadata": {},
   "outputs": [],
   "source": [
    "import numpy as np\n",
    "import pandas as pd \n",
    "import matplotlib.pyplot as plt\n",
    "import math\n",
    "import json\n",
    "%matplotlib inline"
   ]
  },
  {
   "cell_type": "code",
   "execution_count": 189,
   "id": "3a12fc2d",
   "metadata": {},
   "outputs": [],
   "source": [
    "def plot_vec(vec, point=np.array([0,0])):\n",
    "    point = np.array(point)\n",
    "    vec = np.array(vec)\n",
    "    projection = point+vec\n",
    "    plt.plot(point[0], point[1], 'ro', label='Point')\n",
    "    plt.plot(projection[0], projection[1], 'go', label='Projection')\n",
    "    # Plot the vector from the point to the projection\n",
    "    plt.arrow(point[0], point[1], projection[0] - point[0], projection[1] - point[1], width=0.05, color='m', label='Vector')\n"
   ]
  },
  {
   "cell_type": "code",
   "execution_count": 2,
   "id": "df04cc56",
   "metadata": {},
   "outputs": [],
   "source": [
    "import numpy as np\n",
    "from numpy.linalg import norm\n",
    "import matplotlib.pyplot as plt\n",
    "%matplotlib inline\n",
    "class Car():\n",
    "    def __init__(self, initial_position, direction, velocity):\n",
    "        self.position = np.array(initial_position)\n",
    "        self._theta = direction\n",
    "        self.velocity = velocity\n",
    "\n",
    "    def set_direction(self, theta):\n",
    "        self._theta = theta\n",
    "    \n",
    "    def get_direction(self):\n",
    "        return self._theta\n",
    "        \n",
    "    def get_velocity_vector(self):\n",
    "        return self.velocity*np.array([np.cos(self._theta), np.sin(self._theta)])\n",
    "    \n",
    "    def next_position(self, dt):\n",
    "        return self.position + self.get_velocity_vector()*dt\n",
    "    \n",
    "    def update_position(self, dt):\n",
    "        self.position = self.next_position(dt)\n",
    "        \n",
    "\n",
    "def plot_line(p1,p2,x_scale):\n",
    "    p1 = np.array(p1)\n",
    "    p2 = np.array(p2)\n",
    "    p = p2-p1\n",
    "    x_min = x_scale[0]\n",
    "    x_max = x_scale[1]\n",
    "    x = np.linspace(x_min, x_max)\n",
    "    if p1[1]-p2[1] != 0:\n",
    "        m = (p1[1]-p2[1])/(p1[0]-p2[0])\n",
    "        y = m*(x-p1[0])+p1[1]\n",
    "        plt.plot(x,y, '--')\n",
    "    else:\n",
    "        y = np.ones(len(x))*p1[1]\n",
    "        plt.plot(x,y, '--')\n",
    "\n",
    "def plot_path(path):\n",
    "    for t in range(len(path)-1):\n",
    "        p1 = path[t]\n",
    "        p2 = path[t+1]\n",
    "        p = np.array([p1[0], p2[0]])\n",
    "        plot_line(p1,p2,p)\n",
    "        \n",
    "# path = np.array([[1,0], [2,1], [4,5],[6,5]])\n",
    "# plot_path(path)\n",
    "\n",
    "def point_distance(p1, p2):\n",
    "    return norm(p2-p1)\n",
    "\n",
    "def line_point_distance(p1, p2, point):\n",
    "    p = p2-p1\n",
    "    n = np.array([-p[1],p[0]])\n",
    "    n_hat = n/norm(n)\n",
    "    return point@n_hat\n",
    "    \n",
    "def passed_section(p1, p2, point):\n",
    "    p = p2-p1\n",
    "    p3 = p2-point\n",
    "    return p@p3 < 0\n",
    "\n",
    "def distance_to_end_section(p1, p2, point):\n",
    "    p = p2-p1\n",
    "    p_hat = p/norm(p)\n",
    "    p3 = p2-point\n",
    "    return p_hat@p3\n",
    "\n",
    "\n",
    "def find_next_section(path, position,current_index, threshold):\n",
    "    if current_index == len(path)-2:\n",
    "        return current_index\n",
    "    have_passed_section = passed_section(path[current_index], path[current_index+1], position)\n",
    "    if  have_passed_section:\n",
    "        return current_index + 1\n",
    "    if (not have_passed_section) and (distance_to_end_section(path[current_index], path[current_index+1], position) < threshold):\n",
    "        return current_index + 1\n",
    "    return current_index\n",
    "\n"
   ]
  },
  {
   "cell_type": "markdown",
   "id": "bf0d1180",
   "metadata": {},
   "source": [
    "# My algorithm"
   ]
  },
  {
   "cell_type": "markdown",
   "id": "c4f9ec03",
   "metadata": {},
   "source": [
    "distance term using pid"
   ]
  },
  {
   "cell_type": "code",
   "execution_count": 166,
   "id": "46dee90a",
   "metadata": {},
   "outputs": [],
   "source": [
    "class PID:\n",
    "    def __init__(self, kp, ki, kd):\n",
    "        self.kp = kp\n",
    "        self.ki = ki\n",
    "        self.kd = kd\n",
    "        self.last_error = 0\n",
    "        self.int_error = 0\n",
    "\n",
    "\n",
    "    def __call__(self, error, dt=1):\n",
    "        ed = (error-self.last_error)*dt\n",
    "        self.int_error += error\n",
    "        self.last_error = error\n",
    "        pid_value = self.kp*error + self.ki*self.int_error + self.kd*ed\n",
    "        return \n",
    "\n",
    "    \n",
    "    "
   ]
  },
  {
   "cell_type": "code",
   "execution_count": 206,
   "id": "0acd8986",
   "metadata": {},
   "outputs": [
    {
     "name": "stdout",
     "output_type": "stream",
     "text": [
      "0\n"
     ]
    },
    {
     "data": {
      "text/plain": [
       "3.4633432079864352"
      ]
     },
     "execution_count": 206,
     "metadata": {},
     "output_type": "execute_result"
    },
    {
     "data": {
      "image/png": "[encoded data removed]",
      "text/plain": [
       "<Figure size 432x288 with 1 Axes>"
      ]
     },
     "metadata": {
      "needs_background": "light"
     },
     "output_type": "display_data"
    }
   ],
   "source": [
    "p = np.array([1,2])\n",
    "p_hat = p/norm(p)\n",
    "v = np.array([-1,-1])\n",
    "if atan2(p[1], p[0]) - atan2(v[1], v[0]) < 0:\n",
    "    n_hat = np.array([p[1], -p[0]])\n",
    "else:\n",
    "    n_hat = np.array([-p[1], p[0]])\n",
    "    \n",
    "plot_vec(p)\n",
    "plot_vec(v)\n",
    "plot_vec(n_hat)\n",
    "print(n_hat@p)\n",
    "atan2(p[1], p[0])\n",
    "atan2(p[1], p[0]) - atan2(v[1], v[0])"
   ]
  },
  {
   "cell_type": "markdown",
   "id": "26a8356b",
   "metadata": {},
   "source": [
    "## distance term using abs"
   ]
  },
  {
   "cell_type": "code",
   "execution_count": 155,
   "id": "339b6bc0",
   "metadata": {
    "scrolled": true
   },
   "outputs": [
    {
     "data": {
      "image/png": "[encoded data removed]",
      "text/plain": [
       "<Figure size 432x288 with 1 Axes>"
      ]
     },
     "metadata": {
      "needs_background": "light"
     },
     "output_type": "display_data"
    }
   ],
   "source": [
    "import numpy as np\n",
    "from numpy.linalg import norm\n",
    "import matplotlib.pyplot as plt\n",
    "%matplotlib inline\n",
    "#hyper parameters\n",
    "kd = 1\n",
    "learning_rate = 0.5\n",
    "\n",
    "#initial parameters\n",
    "initial_pos = np.array([0,1])\n",
    "p1 = np.array([1,0])\n",
    "p2 = np.array([2,1])\n",
    "p = p2-p1\n",
    "n = np.array([-p[1],p[0]])\n",
    "n_hat = n/norm(n)\n",
    "pt = initial_pos\n",
    "dt = 0.5\n",
    "initial_velocity = 1\n",
    "initial_theta = 0\n",
    "\n",
    "car = Car(initial_pos, initial_theta, initial_velocity)\n",
    "\n",
    "# positions = [initial_pos]\n",
    "losses = []\n",
    "plt.scatter(initial_pos[0], initial_pos[1])\n",
    "\n",
    "for t in range(50):\n",
    "    theta = car.get_direction()\n",
    "    velocity = car.velocity\n",
    "    v_hat = np.array([np.cos(theta), np.sin(theta)])\n",
    "    v = velocity*v_hat\n",
    "    p_next = car.next_position(dt)\n",
    "    c = p1-p_next\n",
    "    d_tilda = c@n_hat\n",
    "    d = abs(d_tilda)\n",
    "    ld_grad = velocity*dt*np.sign(d_tilda)*(n_hat[0]*np.sin(theta)-n_hat[1]*np.cos(theta))\n",
    "    new_theta = theta-learning_rate*ld_grad\n",
    "    loss_d = d\n",
    "    losses.append(d)\n",
    "    \n",
    "    car.set_direction(new_theta)\n",
    "    p_next = car.next_position(dt)\n",
    "    car.update_position(dt)\n",
    "    plt.scatter(p_next[0], p_next[1], c='b')\n",
    "    \n",
    "\n",
    "\n",
    "last_position = car.position\n",
    "\n",
    "plot_line(p1,p2,[-5,last_position[0]+3])"
   ]
  },
  {
   "cell_type": "code",
   "execution_count": 4,
   "id": "55ad8a0b",
   "metadata": {},
   "outputs": [
    {
     "data": {
      "text/plain": [
       "Text(0.5, 1.0, 'distance loss')"
      ]
     },
     "execution_count": 4,
     "metadata": {},
     "output_type": "execute_result"
    },
    {
     "data": {
      "image/png": "[encoded data removed]",
      "text/plain": [
       "<Figure size 432x288 with 1 Axes>"
      ]
     },
     "metadata": {
      "needs_background": "light"
     },
     "output_type": "display_data"
    }
   ],
   "source": [
    "losses = np.array(losses)\n",
    "plt.plot(losses)\n",
    "plt.xlabel(\"itteration\")\n",
    "plt.ylabel(\"loss\")\n",
    "plt.title(\"distance loss\")"
   ]
  },
  {
   "cell_type": "markdown",
   "id": "afa009fe",
   "metadata": {},
   "source": [
    "## Minimizing angle"
   ]
  },
  {
   "cell_type": "code",
   "execution_count": 5,
   "id": "281075d4",
   "metadata": {},
   "outputs": [
    {
     "data": {
      "image/png": "[encoded data removed]",
      "text/plain": [
       "<Figure size 432x288 with 1 Axes>"
      ]
     },
     "metadata": {
      "needs_background": "light"
     },
     "output_type": "display_data"
    }
   ],
   "source": [
    "import numpy as np\n",
    "from numpy.linalg import norm\n",
    "import matplotlib.pyplot as plt\n",
    "%matplotlib inline\n",
    "#hyper parameters\n",
    "kd = 1\n",
    "learning_rate = 0.1\n",
    "w = 0.5\n",
    "\n",
    "#initial parameters\n",
    "initial_pos = np.array([-3,1])\n",
    "p1 = np.array([1,0])\n",
    "p2 = np.array([2,1])\n",
    "p = p2-p1\n",
    "n = np.array([-p[1],p[0]])\n",
    "n_hat = n/norm(n)\n",
    "pt = initial_pos\n",
    "dt = 0.5\n",
    "initial_velocity = 1\n",
    "initial_theta = 0\n",
    "\n",
    "car = Car(initial_pos, initial_theta, initial_velocity)\n",
    "losses = []\n",
    "# positions = [initial_pos]\n",
    "plt.scatter(initial_pos[0], initial_pos[1])\n",
    "\n",
    "for t in range(50):\n",
    "    pt = car.position.copy()\n",
    "    theta = car.get_direction()\n",
    "    velocity = car.velocity\n",
    "    v_hat = np.array([np.cos(theta), np.sin(theta)])\n",
    "    v = velocity*v_hat\n",
    "    p_next = car.next_position(dt)\n",
    "    c = p1-p_next\n",
    "    d_tilda = c@n_hat\n",
    "    d = abs(d_tilda)\n",
    "    \n",
    "    theta_l = np.arctan(p[1]/p[0])\n",
    "    theta_error_tilda = theta-theta_l\n",
    "    theta_error = abs(theta_error_tilda)\n",
    "    ct = p1 - pt\n",
    "    distance_t_tilda = ct@n_hat\n",
    "    distance_t = abs(theta_error_tilda)\n",
    "    \n",
    "    \n",
    "    \n",
    "    ld_grad = velocity*dt*np.sign(d_tilda)*(n_hat[0]*np.sin(theta)-n_hat[1]*np.cos(theta))\n",
    "    la_grad = np.exp(-w*distance_t)*np.sign(theta_error_tilda)\n",
    "    \n",
    "    loss_d = d\n",
    "    loss_angle = theta_error*np.exp(-w*d)\n",
    "    losses.append(loss_angle)\n",
    "    \n",
    "    new_theta = theta-learning_rate*la_grad\n",
    "    \n",
    "    car.set_direction(new_theta)\n",
    "    p_next = car.next_position(dt)\n",
    "    car.update_position(dt)\n",
    "    plt.scatter(p_next[0], p_next[1], c='b')\n",
    "    \n",
    "\n",
    "\n",
    "\n",
    "\n",
    "last_position = car.position\n",
    "\n",
    "plot_line(p1,p2,[-5,last_position[0]+3])"
   ]
  },
  {
   "cell_type": "code",
   "execution_count": 6,
   "id": "7235f922",
   "metadata": {},
   "outputs": [
    {
     "data": {
      "text/plain": [
       "Text(0.5, 1.0, 'angle loss')"
      ]
     },
     "execution_count": 6,
     "metadata": {},
     "output_type": "execute_result"
    },
    {
     "data": {
      "image/png": "[encoded data removed]",
      "text/plain": [
       "<Figure size 432x288 with 1 Axes>"
      ]
     },
     "metadata": {
      "needs_background": "light"
     },
     "output_type": "display_data"
    }
   ],
   "source": [
    "losses = np.array(losses)\n",
    "plt.plot(losses)\n",
    "plt.xlabel(\"itteration\")\n",
    "plt.ylabel(\"loss\")\n",
    "plt.title(\"angle loss\")"
   ]
  },
  {
   "cell_type": "markdown",
   "id": "d5b0c2a3",
   "metadata": {},
   "source": [
    "## Combain the losses"
   ]
  },
  {
   "cell_type": "code",
   "execution_count": 7,
   "id": "7f798a8f",
   "metadata": {},
   "outputs": [
    {
     "data": {
      "image/png": "[encoded data removed]",
      "text/plain": [
       "<Figure size 432x288 with 1 Axes>"
      ]
     },
     "metadata": {
      "needs_background": "light"
     },
     "output_type": "display_data"
    }
   ],
   "source": [
    "import numpy as np\n",
    "from numpy.linalg import norm\n",
    "import matplotlib.pyplot as plt\n",
    "%matplotlib inline\n",
    "#hyper parameters\n",
    "kd = 0.5\n",
    "ka = 1\n",
    "w = 1/5\n",
    "\n",
    "learning_rate = 0.1\n",
    "\n",
    "\n",
    "#initial parameters\n",
    "initial_pos = np.array([0,1])\n",
    "initial_pos = np.array([-3,3])\n",
    "p1 = np.array([1,0])\n",
    "p2 = np.array([2,1])\n",
    "p = p2-p1\n",
    "n = np.array([-p[1],p[0]])\n",
    "n_hat = n/norm(n)\n",
    "pt = initial_pos\n",
    "dt = 1\n",
    "initial_velocity = 1\n",
    "initial_theta = 0\n",
    "\n",
    "car = Car(initial_pos, initial_theta, initial_velocity)\n",
    "losses = []\n",
    "# positions = [initial_pos]\n",
    "plt.scatter(initial_pos[0], initial_pos[1])\n",
    "\n",
    "for t in range(20):\n",
    "    pt = car.position.copy()\n",
    "    theta = car.get_direction()\n",
    "    velocity = car.velocity\n",
    "    v_hat = np.array([np.cos(theta), np.sin(theta)])\n",
    "    v = velocity*v_hat\n",
    "    p_next = car.next_position(dt)\n",
    "    c = p1-p_next\n",
    "    d_tilda = c@n_hat\n",
    "    d = abs(d_tilda)\n",
    "    \n",
    "    theta_l = np.arctan(p[1]/p[0])\n",
    "    theta_error_tilda = theta-theta_l\n",
    "    theta_error = abs(theta_error_tilda)\n",
    "    ct = p1 - pt\n",
    "    distance_t_tilda = ct@n_hat\n",
    "    distance_t = abs(theta_error_tilda)\n",
    "    \n",
    "    \n",
    "    \n",
    "    ld_grad = velocity*dt*np.sign(d_tilda)*(n_hat[0]*np.sin(theta)-n_hat[1]*np.cos(theta))\n",
    "    la_grad = np.exp(-w*distance_t)*np.sign(theta_error_tilda)\n",
    "    grad = ka*la_grad+kd*ld_grad\n",
    "    \n",
    "    loss_d = d\n",
    "    loss_angle = theta_error*np.exp(-w*d)\n",
    "    loss = ka*loss_angle+kd*loss_d\n",
    "    losses.append(loss)\n",
    "    \n",
    "    new_theta = theta-learning_rate*grad\n",
    "    \n",
    "    car.set_direction(new_theta)\n",
    "    p_next = car.next_position(dt)\n",
    "    car.update_position(dt)\n",
    "    plt.scatter(p_next[0], p_next[1], c='b')\n",
    "    \n",
    "\n",
    "\n",
    "\n",
    "last_position = car.position\n",
    "\n",
    "plot_line(p1,p2,[-5,last_position[0]+3])"
   ]
  },
  {
   "cell_type": "code",
   "execution_count": 57,
   "id": "8894f07a",
   "metadata": {
    "scrolled": false
   },
   "outputs": [
    {
     "data": {
      "text/plain": [
       "Text(0.5, 1.0, 'loss')"
      ]
     },
     "execution_count": 57,
     "metadata": {},
     "output_type": "execute_result"
    },
    {
     "data": {
      "image/png": "[encoded data removed]",
      "text/plain": [
       "<Figure size 432x288 with 1 Axes>"
      ]
     },
     "metadata": {
      "needs_background": "light"
     },
     "output_type": "display_data"
    }
   ],
   "source": [
    "losses = np.array(losses)\n",
    "plt.plot(losses)\n",
    "plt.xlabel(\"itteration\")\n",
    "plt.ylabel(\"loss\")\n",
    "plt.title(\"loss\")"
   ]
  },
  {
   "cell_type": "markdown",
   "id": "4e4f9238",
   "metadata": {},
   "source": [
    "## Now try path"
   ]
  },
  {
   "cell_type": "code",
   "execution_count": 52,
   "id": "94aa16a8",
   "metadata": {},
   "outputs": [],
   "source": [
    "import numpy as np\n",
    "from numpy.linalg import norm\n",
    "import matplotlib.pyplot as plt\n",
    "%matplotlib inline\n",
    "class Car():\n",
    "    def __init__(self, initial_position, direction, velocity):\n",
    "        self.position = np.array(initial_position)\n",
    "        self._theta = direction\n",
    "        self.velocity = velocity\n",
    "\n",
    "    def set_direction(self, theta):\n",
    "        self._theta = theta\n",
    "    \n",
    "    def get_direction(self):\n",
    "        return self._theta\n",
    "        \n",
    "    def get_velocity_vector(self):\n",
    "        return self.velocity*np.array([np.cos(self._theta), np.sin(self._theta)])\n",
    "    \n",
    "    def next_position(self, dt):\n",
    "        return self.position + self.get_velocity_vector()*dt\n",
    "    \n",
    "    def update_position(self, dt):\n",
    "        self.position = self.next_position(dt)\n",
    "\n",
    "\n",
    "def plot_line(p1,p2,x_scale):\n",
    "    p1 = np.array(p1)\n",
    "    p2 = np.array(p2)\n",
    "    p = p2-p1\n",
    "    x_min = x_scale[0]\n",
    "    x_max = x_scale[1]\n",
    "    x = np.linspace(x_min, x_max)\n",
    "    if p1[0]-p2[0] != 0:\n",
    "        m = (p1[1]-p2[1])/(p1[0]-p2[0])\n",
    "        y = m*(x-p1[0])+p1[1]\n",
    "        plt.plot(x,y, '--')\n",
    "    else:\n",
    "        y = np.linspace(min(p1[1], p2[1]), max(p1[1], p2[1]))\n",
    "        x = np.ones(len(y))*p1[0]\n",
    "        plt.plot(x,y, '--')\n",
    "\n",
    "def plot_path(path):\n",
    "    for t in range(len(path)-1):\n",
    "        p1 = path[t]\n",
    "        p2 = path[t+1]\n",
    "        p = np.array([p1[0], p2[0]])\n",
    "        plot_line(p1,p2,p)\n",
    "        \n",
    "# path = np.array([[1,0], [2,1], [4,5],[6,5]])\n",
    "# plot_path(path)\n",
    "\n",
    "def point_distance(p1, p2):\n",
    "    return norm(p2-p1)\n",
    "\n",
    "def line_point_distance(p1, p2, point):\n",
    "    p = p2-p1\n",
    "    n = np.array([-p[1],p[0]])\n",
    "    n_hat = n/norm(n)\n",
    "    return point@n_hat\n",
    "    \n",
    "def passed_section(p1, p2, point):\n",
    "    p = p2-p1\n",
    "    p3 = p2-point\n",
    "    return p@p3 < 0\n",
    "\n",
    "def distance_to_end_section(p1, p2, point):\n",
    "    p = p2-p1\n",
    "    p_hat = p/norm(p)\n",
    "    p3 = p2-point\n",
    "    return p_hat@p3\n",
    "\n",
    "\n",
    "def find_next_section(path, position,current_index, threshold):\n",
    "    if current_index == len(path)-2:\n",
    "        return current_index\n",
    "    have_passed_section = passed_section(path[current_index], path[current_index+1], position)\n",
    "    if  have_passed_section:\n",
    "        return current_index + 1\n",
    "    if (not have_passed_section) and (distance_to_end_section(path[current_index], path[current_index+1], position) < threshold):\n",
    "        return current_index + 1\n",
    "    return current_index\n",
    "\n"
   ]
  },
  {
   "cell_type": "code",
   "execution_count": null,
   "id": "96f3f644",
   "metadata": {},
   "outputs": [],
   "source": []
  },
  {
   "cell_type": "code",
   "execution_count": 172,
   "id": "65259dba",
   "metadata": {},
   "outputs": [],
   "source": [
    "import numpy as np\n",
    "from numpy.linalg import norm\n",
    "import matplotlib.pyplot as plt\n",
    "from math import atan2\n",
    "%matplotlib inline\n",
    "\n",
    "\n",
    "def get_smallest_theta_error(current, refrence):\n",
    "    \n",
    "    if 2*np.pi+current-refrence < current-refrence:\n",
    "        return 2*np.pi+current-refrence\n",
    "    return current-refrence\n",
    "\n",
    "def simulation(loss_ratio , w, end_section_threshold, learning_rate, path,initial_pos, initial_velocity, initial_theta, dt, max_itteration):\n",
    "    #hyper parameters\n",
    "    kd = loss_ratio\n",
    "    ka = 1-loss_ratio\n",
    "    print(loss_ratio, kd, ka)\n",
    "    \n",
    "    pt = initial_pos\n",
    "\n",
    "    car = Car(initial_pos, initial_theta, initial_velocity)\n",
    "    losses = []\n",
    "    # positions = [initial_pos]\n",
    "    plt.scatter(initial_pos[0], initial_pos[1])\n",
    "    car_path = []\n",
    "\n",
    "    i = 0\n",
    "    for t in range(max_itteration):\n",
    "        #if got to the end\n",
    "        if i == len(path)-2 and passed_section(path[i], path[i+1], pt):\n",
    "            break\n",
    "        i = find_next_section(path, pt,i, end_section_threshold)\n",
    "\n",
    "\n",
    "        p1 = path[i]\n",
    "        p2 = path[i+1]\n",
    "        p = p2-p1\n",
    "        n = np.array([-p[1],p[0]])\n",
    "        n_hat = n/norm(n)\n",
    "\n",
    "        pt = car.position.copy()\n",
    "        theta = car.get_direction()\n",
    "        velocity = car.velocity\n",
    "\n",
    "\n",
    "\n",
    "\n",
    "        v_hat = np.array([np.cos(theta), np.sin(theta)])\n",
    "        v = velocity*v_hat\n",
    "        p_next = car.next_position(dt)\n",
    "        c = p1-p_next\n",
    "        d_tilda = c@n_hat\n",
    "        d = abs(d_tilda)\n",
    "        #the angle of the line\n",
    "        theta_l = atan2(p[1], p[0])        \n",
    "        theta_error_tilda = theta-theta_l\n",
    "\n",
    "            \n",
    "\n",
    "        theta_error = abs(theta_error_tilda)\n",
    "        ct = p1 - pt\n",
    "        distance_t_tilda = ct@n_hat\n",
    "        distance_t = abs(theta_error_tilda)\n",
    "\n",
    "\n",
    "\n",
    "        ld_grad = velocity*dt*np.sign(d_tilda)*(n_hat[0]*np.sin(theta)-n_hat[1]*np.cos(theta))\n",
    "        predicted_theta = theta_l - (theta- ld_grad*learning_rate)\n",
    "        if predicted_theta > (theta_l+90):\n",
    "            ld_grad = -1*ld_grad\n",
    "        \n",
    "        \n",
    "        \n",
    "        la_grad = np.exp(-w*distance_t)*np.sign(theta_error_tilda)\n",
    "        if theta_l < theta:\n",
    "            if theta -learning_rate*ka*la_grad < theta_l:\n",
    "                la_grad = theta_error_tilda/learning_rate/ka;\n",
    "        if theta_l > theta:\n",
    "            if theta -learning_rate*ka*la_grad > theta_l:\n",
    "                la_grad = theta_error_tilda/learning_rate/ka;\n",
    "        \n",
    "        grad = ka*la_grad+kd*ld_grad\n",
    "\n",
    "        loss_d = d\n",
    "        loss_angle = theta_error*np.exp(-w*d)\n",
    "        loss = ka*loss_angle+kd*loss_d\n",
    "        losses.append(loss)\n",
    "        \n",
    "        new_theta = theta-learning_rate*grad\n",
    "#         if i ==1:\n",
    "#             print(theta_l)\n",
    "#         print(ka)\n",
    "\n",
    "        car.set_direction(new_theta)\n",
    "        p_next = car.next_position(dt)\n",
    "        car.update_position(dt)\n",
    "        car_path.append(p_next)\n",
    "#         print(\"loss grad\",loss, grad)\n",
    "    car_path = np.array(car_path)\n",
    "    plt.plot(car_path[:,0], car_path[:,1],  label=f'loss ration {loss_ratio}, w {w}')\n",
    "    \n",
    "    plt.legend()\n",
    "    \n",
    "\n",
    "\n",
    "\n",
    "\n",
    "    last_position = car.position\n",
    "\n",
    "\n",
    "    plot_path(path)\n"
   ]
  },
  {
   "cell_type": "markdown",
   "id": "e4f519de",
   "metadata": {},
   "source": [
    "## path"
   ]
  },
  {
   "cell_type": "code",
   "execution_count": 173,
   "id": "59e36b63",
   "metadata": {},
   "outputs": [
    {
     "name": "stdout",
     "output_type": "stream",
     "text": [
      "1 1 0\n"
     ]
    },
    {
     "data": {
      "image/png": "[encoded data removed]",
      "text/plain": [
       "<Figure size 432x288 with 1 Axes>"
      ]
     },
     "metadata": {
      "needs_background": "light"
     },
     "output_type": "display_data"
    }
   ],
   "source": [
    "import numpy as np\n",
    "from numpy.linalg import norm\n",
    "import matplotlib.pyplot as plt\n",
    "%matplotlib inline\n",
    "#hyper parameters\n",
    "loss_ratio = 0.5\n",
    "kd = loss_ratio\n",
    "ka = 1-loss_ratio\n",
    "w = 1\n",
    "end_section_threshold = 0.1\n",
    "initial_velocity = 0.1\n",
    "dt = 0.1\n",
    "learning_rate = 1\n",
    "\n",
    "initial_pos = np.array([5,0])\n",
    "#initial parameters\n",
    "path = np.array([initial_pos, [1,0], [2,1], [4,5],[6,5], [6, 10], [4,10]])\n",
    "loss_ratio = 1\n",
    "\n",
    "initial_theta = np.pi\n",
    "\n",
    "simulation(loss_ratio , w, end_section_threshold, learning_rate, path,initial_pos, initial_velocity, initial_theta, dt, 2000)"
   ]
  },
  {
   "cell_type": "code",
   "execution_count": null,
   "id": "4151e8c9",
   "metadata": {},
   "outputs": [],
   "source": []
  },
  {
   "cell_type": "code",
   "execution_count": 107,
   "id": "011cb8aa",
   "metadata": {},
   "outputs": [
    {
     "data": {
      "text/plain": [
       "array([10.,  0.])"
      ]
     },
     "execution_count": 107,
     "metadata": {},
     "output_type": "execute_result"
    },
    {
     "data": {
      "image/png": "[encoded data removed]",
      "text/plain": [
       "<Figure size 432x288 with 1 Axes>"
      ]
     },
     "metadata": {
      "needs_background": "light"
     },
     "output_type": "display_data"
    }
   ],
   "source": [
    "r = 10\n",
    "theta = np.linspace(0, 2*np.pi, 9)\n",
    "x = r*np.cos(theta)\n",
    "y = r*np.sin(theta)\n",
    "circle_path = np.array([x, y]).transpose()\n",
    "\n",
    "plt.scatter(*zip(*circle_path))\n",
    "circle_path[0]"
   ]
  },
  {
   "cell_type": "code",
   "execution_count": 108,
   "id": "f51ec456",
   "metadata": {},
   "outputs": [
    {
     "name": "stdout",
     "output_type": "stream",
     "text": [
      "0 0 1\n",
      "0.5 0.5 0.5\n",
      "1 1 0\n"
     ]
    },
    {
     "data": {
      "image/png": "[encoded data removed]",
      "text/plain": [
       "<Figure size 432x288 with 1 Axes>"
      ]
     },
     "metadata": {
      "needs_background": "light"
     },
     "output_type": "display_data"
    }
   ],
   "source": [
    "import numpy as np\n",
    "from numpy.linalg import norm\n",
    "import matplotlib.pyplot as plt\n",
    "%matplotlib inline\n",
    "#hyper parameters\n",
    "loss_ratio = 0\n",
    "# kd = loss_ratio\n",
    "# ka = 1-loss_ratio\n",
    "w = 1\n",
    "end_section_threshold = 0.5\n",
    "initial_velocity = 1\n",
    "dt = 0.1\n",
    "learning_rate = 0\n",
    "\n",
    "initial_pos = circle_path[0]\n",
    "#initial parameters\n",
    "path = circle_path[:4]\n",
    "loss_ratio = 0.8\n",
    "\n",
    "initial_theta = np.pi/2\n",
    "for loss_ratio in [0, 0.5, 1]:\n",
    "    simulation(loss_ratio , w, end_section_threshold, learning_rate, path,initial_pos, initial_velocity, initial_theta, dt, 200)"
   ]
  },
  {
   "cell_type": "code",
   "execution_count": 109,
   "id": "b39fd32c",
   "metadata": {},
   "outputs": [
    {
     "data": {
      "image/png": "[encoded data removed]",
      "text/plain": [
       "<Figure size 432x288 with 1 Axes>"
      ]
     },
     "metadata": {
      "needs_background": "light"
     },
     "output_type": "display_data"
    }
   ],
   "source": [
    "import numpy as np\n",
    "import matplotlib.pyplot as plt\n",
    "\n",
    "def infinity_sign(radius):\n",
    "    theta = np.linspace(-np.pi, np.pi, 10)\n",
    "    x = radius * np.sin(theta)\n",
    "    y = radius * np.sin(theta) * np.cos(theta) / (1 + np.sin(theta) ** 2)\n",
    "    path1 = np.column_stack((x, y))\n",
    "    path2 = np.column_stack((x, -y))\n",
    "    return path1 #np.concatenate([path1, path2])\n",
    "\n",
    "# Generate the infinity sign path\n",
    "infinity = infinity_sign(2)\n",
    "plt.scatter(*zip(*infinity))\n",
    "path = infinity\n",
    "path = path[:3]\n",
    "plot_path(path)\n",
    "# vecs = path[1:]-path[:-1]\n",
    "# for point, vec in  zip(points, vecs):\n",
    "#     plot_vec(point, vec)"
   ]
  },
  {
   "cell_type": "code",
   "execution_count": 77,
   "id": "b944b9ea",
   "metadata": {},
   "outputs": [
    {
     "name": "stdout",
     "output_type": "stream",
     "text": [
      "0.8 0.8 0.19999999999999996\n"
     ]
    },
    {
     "data": {
      "image/png": "[encoded data removed]",
      "text/plain": [
       "<Figure size 432x288 with 1 Axes>"
      ]
     },
     "metadata": {
      "needs_background": "light"
     },
     "output_type": "display_data"
    }
   ],
   "source": [
    "import numpy as np\n",
    "from numpy.linalg import norm\n",
    "import matplotlib.pyplot as plt\n",
    "%matplotlib inline\n",
    "#hyper parameters\n",
    "loss_ratio = 0.8\n",
    "kd = loss_ratio\n",
    "ka = 1-loss_ratio\n",
    "w = 1\n",
    "end_section_threshold = 1\n",
    "learning_rate = 1\n",
    "\n",
    "\n",
    "#initial parameters\n",
    "\n",
    "loss_ratio = 0.8\n",
    "initial_pos = np.array([0,0])\n",
    "pt = initial_pos\n",
    "dt = 0.1\n",
    "initial_velocity = 1\n",
    "initial_theta = np.pi/2\n",
    "simulation(loss_ratio , w, end_section_threshold, learning_rate, path,initial_pos, initial_velocity, initial_theta, dt, 100)"
   ]
  },
  {
   "cell_type": "markdown",
   "id": "0a1d9977",
   "metadata": {},
   "source": [
    "# Using stanley "
   ]
  },
  {
   "cell_type": "code",
   "execution_count": null,
   "id": "0638e6d2",
   "metadata": {},
   "outputs": [],
   "source": []
  },
  {
   "cell_type": "code",
   "execution_count": 110,
   "id": "f3b59f19",
   "metadata": {},
   "outputs": [],
   "source": [
    "import numpy as np\n",
    "from numpy.linalg import norm\n",
    "import matplotlib.pyplot as plt\n",
    "%matplotlib inline\n",
    "\n",
    "\n",
    "def simulation(loss_ratio , w, end_section_threshold, learning_rate, path,initial_pos, initial_velocity, initial_theta, dt, max_itteration):\n",
    "    #hyper parameters\n",
    "#     loss_ratio = 0.8\n",
    "    kd = loss_ratio\n",
    "    ka = 1-loss_ratio\n",
    "    w = 1\n",
    "#     end_section_threshold = 1\n",
    "#     learning_rate = 1\n",
    "\n",
    "\n",
    "    #initial parameters\n",
    "#     path = np.array([initial_pos, [1,0], [2,1], [4,5],[6,5]])\n",
    "\n",
    "\n",
    "#     initial_pos = np.array([0,0])\n",
    "    pt = initial_pos\n",
    "#     dt = 0.1\n",
    "#     initial_velocity = 1\n",
    "#     initial_theta = 0\n",
    "    car = Car(initial_pos, initial_theta, initial_velocity)\n",
    "    losses = []\n",
    "    # positions = [initial_pos]\n",
    "    plt.scatter(initial_pos[0], initial_pos[1])\n",
    "    car_path = []\n",
    "\n",
    "    i = 0\n",
    "    for t in range(max_itteration):\n",
    "        #if got to the end\n",
    "        if i == len(path)-2 and passed_section(path[i], path[i+1], pt):\n",
    "            break\n",
    "\n",
    "#         i = find_next_section(path, pt,i, end_section_threshold)\n",
    "        \n",
    "\n",
    "        p1 = path[i]\n",
    "        p2 = path[i+1]\n",
    "        p = p2-p1\n",
    "        n = np.array([-p[1],p[0]])\n",
    "        n_hat = n/norm(n)\n",
    "        \n",
    "        \n",
    "\n",
    "        pt = car.position.copy()\n",
    "        theta = car.get_direction()\n",
    "        velocity = car.velocity\n",
    "        \n",
    "        \n",
    "\n",
    "\n",
    "\n",
    "\n",
    "        v_hat = np.array([np.cos(theta), np.sin(theta)])\n",
    "        v = velocity*v_hat\n",
    "        p_next = car.next_position(dt)\n",
    "        c = p1-p_next\n",
    "        d_tilda = c@n_hat\n",
    "        d = abs(d_tilda)\n",
    "        \n",
    "        \n",
    "        \n",
    "        x_hat = np.array([1,0])\n",
    "        n_angle = np.arccos(x_hat@n_hat)\n",
    "        psi = n_angle-theta\n",
    "        vf = velocity\n",
    "        e = d\n",
    "        k=1\n",
    "        ks= 1\n",
    "        delta = psi + np.arctan(k*e/(ks+vf))\n",
    "        \n",
    "        new_theta = delta\n",
    "        \n",
    "        \n",
    "#         theta_l = np.arctan(p[1]/p[0])\n",
    "#         theta_error_tilda = theta-theta_l\n",
    "#         theta_error = abs(theta_error_tilda)\n",
    "#         ct = p1 - pt\n",
    "        \n",
    "        \n",
    "\n",
    "\n",
    "\n",
    "#         ld_grad = velocity*dt*np.sign(d_tilda)*(n_hat[0]*np.sin(theta)-n_hat[1]*np.cos(theta))\n",
    "#         la_grad = np.exp(-w*distance_t)*np.sign(theta_error_tilda)\n",
    "#         grad = ka*la_grad+kd*ld_grad\n",
    "\n",
    "#         loss_d = d\n",
    "#         loss_angle = theta_error*np.exp(-w*d)\n",
    "#         loss = ka*loss_angle+kd*loss_d\n",
    "#         losses.append(loss)\n",
    "\n",
    "#         new_theta = theta-learning_rate*grad\n",
    "        car.set_direction(new_theta)\n",
    "    \n",
    "        p_next = car.next_position(dt)\n",
    "        car.update_position(dt)\n",
    "        car_path.append(p_next)\n",
    "#     print(car_path)\n",
    "    car_path = np.array(car_path)\n",
    "    plt.plot(car_path[:,0], car_path[:,1])\n",
    "#         plt.scatter(p_next[0], p_next[1], c='b', s=0.5)\n",
    "\n",
    "\n",
    "\n",
    "\n",
    "    last_position = car.position\n",
    "\n",
    "\n",
    "    plot_path(path)\n"
   ]
  },
  {
   "cell_type": "code",
   "execution_count": 111,
   "id": "ea2ed276",
   "metadata": {},
   "outputs": [
    {
     "data": {
      "image/png": "[encoded data removed]",
      "text/plain": [
       "<Figure size 432x288 with 1 Axes>"
      ]
     },
     "metadata": {
      "needs_background": "light"
     },
     "output_type": "display_data"
    }
   ],
   "source": [
    "import numpy as np\n",
    "from numpy.linalg import norm\n",
    "import matplotlib.pyplot as plt\n",
    "%matplotlib inline\n",
    "#hyper parameters\n",
    "loss_ratio = 0.8\n",
    "kd = loss_ratio\n",
    "ka = 1-loss_ratio\n",
    "w = 10\n",
    "end_section_threshold = 0.5\n",
    "initial_velocity = 1\n",
    "dt = 0.1\n",
    "learning_rate = w*dt*initial_velocity\n",
    "\n",
    "initial_pos = np.array([5,0])\n",
    "#initial parameters\n",
    "path = np.array([[1,0], [2,1], [3,2]])\n",
    "\n",
    "loss_ratio = 0.8\n",
    "\n",
    "pt = initial_pos\n",
    "\n",
    "initial_theta = 0 #np.pi/2\n",
    "simulation(loss_ratio , w, end_section_threshold, learning_rate, path,initial_pos, initial_velocity, initial_theta, dt, 100)"
   ]
  },
  {
   "cell_type": "code",
   "execution_count": null,
   "id": "21d719e8",
   "metadata": {},
   "outputs": [],
   "source": []
  }
 ],
 "metadata": {
  "kernelspec": {
   "display_name": "Python 3 (ipykernel)",
   "language": "python",
   "name": "python3"
  },
  "language_info": {
   "codemirror_mode": {
    "name": "ipython",
    "version": 3
   },
   "file_extension": ".py",
   "mimetype": "text/x-python",
   "name": "python",
   "nbconvert_exporter": "python",
   "pygments_lexer": "ipython3",
   "version": "3.9.7"
  }
 },
 "nbformat": 4,
 "nbformat_minor": 5
}
