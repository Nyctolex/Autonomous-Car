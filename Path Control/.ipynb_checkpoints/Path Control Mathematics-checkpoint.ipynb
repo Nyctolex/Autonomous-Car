{
 "cells": [
  {
   "cell_type": "code",
   "execution_count": 100,
   "id": "82cbe753",
   "metadata": {},
   "outputs": [],
   "source": [
    "import numpy as np\n",
    "import pandas as pd \n",
    "import matplotlib.pyplot as plt\n",
    "import math\n",
    "import json\n",
    "%matplotlib inline"
   ]
  },
  {
   "cell_type": "markdown",
   "id": "e50b3f25",
   "metadata": {},
   "source": [
    "# Stanley algorithm"
   ]
  },
  {
   "cell_type": "code",
   "execution_count": 107,
   "id": "2e4198ba",
   "metadata": {},
   "outputs": [],
   "source": []
  },
  {
   "cell_type": "code",
   "execution_count": 261,
   "id": "bc306194",
   "metadata": {
    "scrolled": true
   },
   "outputs": [
    {
     "name": "stdout",
     "output_type": "stream",
     "text": [
      "[[30 15]\n",
      " [30 20]]\n"
     ]
    },
    {
     "ename": "IndexError",
     "evalue": "index 3 is out of bounds for axis 0 with size 3",
     "output_type": "error",
     "traceback": [
      "\u001b[1;31m---------------------------------------------------------------------------\u001b[0m",
      "\u001b[1;31mIndexError\u001b[0m                                Traceback (most recent call last)",
      "\u001b[1;32mC:\\Users\\CHRIS-~1\\AppData\\Local\\Temp/ipykernel_9396/2760061966.py\u001b[0m in \u001b[0;36m<module>\u001b[1;34m\u001b[0m\n\u001b[0;32m     92\u001b[0m \u001b[0mlookahead_distance\u001b[0m \u001b[1;33m=\u001b[0m \u001b[1;36m1.4\u001b[0m\u001b[1;33m\u001b[0m\u001b[1;33m\u001b[0m\u001b[0m\n\u001b[0;32m     93\u001b[0m \u001b[1;33m\u001b[0m\u001b[0m\n\u001b[1;32m---> 94\u001b[1;33m \u001b[0mtrajectory\u001b[0m \u001b[1;33m=\u001b[0m \u001b[0msimulate_car\u001b[0m\u001b[1;33m(\u001b[0m\u001b[0mpath\u001b[0m\u001b[1;33m,\u001b[0m \u001b[0mcar\u001b[0m\u001b[1;33m,\u001b[0m \u001b[0mspeed\u001b[0m\u001b[1;33m,\u001b[0m \u001b[0mdt\u001b[0m\u001b[1;33m,\u001b[0m \u001b[0mmax_iterations\u001b[0m\u001b[1;33m)\u001b[0m\u001b[1;33m\u001b[0m\u001b[1;33m\u001b[0m\u001b[0m\n\u001b[0m\u001b[0;32m     95\u001b[0m \u001b[1;33m\u001b[0m\u001b[0m\n\u001b[0;32m     96\u001b[0m \u001b[0mplt\u001b[0m\u001b[1;33m.\u001b[0m\u001b[0mfigure\u001b[0m\u001b[1;33m(\u001b[0m\u001b[1;33m)\u001b[0m\u001b[1;33m\u001b[0m\u001b[1;33m\u001b[0m\u001b[0m\n",
      "\u001b[1;32mC:\\Users\\CHRIS-~1\\AppData\\Local\\Temp/ipykernel_9396/2760061966.py\u001b[0m in \u001b[0;36msimulate_car\u001b[1;34m(path, car, speed, dt, max_iterations)\u001b[0m\n\u001b[0;32m     73\u001b[0m \u001b[1;33m\u001b[0m\u001b[0m\n\u001b[0;32m     74\u001b[0m     \u001b[1;32mwhile\u001b[0m \u001b[0miteration\u001b[0m \u001b[1;33m<\u001b[0m \u001b[0mmax_iterations\u001b[0m\u001b[1;33m:\u001b[0m\u001b[1;33m\u001b[0m\u001b[1;33m\u001b[0m\u001b[0m\n\u001b[1;32m---> 75\u001b[1;33m         \u001b[0msteering_angle\u001b[0m \u001b[1;33m=\u001b[0m \u001b[0mstanley_controller\u001b[0m\u001b[1;33m(\u001b[0m\u001b[0mcurrent_pose\u001b[0m\u001b[1;33m,\u001b[0m \u001b[0mpath\u001b[0m\u001b[1;33m)\u001b[0m\u001b[1;33m\u001b[0m\u001b[1;33m\u001b[0m\u001b[0m\n\u001b[0m\u001b[0;32m     76\u001b[0m         \u001b[0mcar\u001b[0m\u001b[1;33m.\u001b[0m\u001b[0mnext_position\u001b[0m\u001b[1;33m(\u001b[0m\u001b[0msteering_angle\u001b[0m\u001b[1;33m,\u001b[0m \u001b[0mspeed\u001b[0m\u001b[1;33m,\u001b[0m \u001b[0mdt\u001b[0m\u001b[1;33m)\u001b[0m\u001b[1;33m\u001b[0m\u001b[1;33m\u001b[0m\u001b[0m\n\u001b[0;32m     77\u001b[0m         \u001b[0mcurrent_pose\u001b[0m \u001b[1;33m=\u001b[0m \u001b[0mcar\u001b[0m\u001b[1;33m.\u001b[0m\u001b[0mget_position\u001b[0m\u001b[1;33m(\u001b[0m\u001b[1;33m)\u001b[0m\u001b[1;33m\u001b[0m\u001b[1;33m\u001b[0m\u001b[0m\n",
      "\u001b[1;32mC:\\Users\\CHRIS-~1\\AppData\\Local\\Temp/ipykernel_9396/2760061966.py\u001b[0m in \u001b[0;36mstanley_controller\u001b[1;34m(current_position, Vd, L, k)\u001b[0m\n\u001b[0;32m     53\u001b[0m \u001b[1;33m\u001b[0m\u001b[0m\n\u001b[0;32m     54\u001b[0m     \u001b[1;31m# Compute the steering angle\u001b[0m\u001b[1;33m\u001b[0m\u001b[1;33m\u001b[0m\u001b[0m\n\u001b[1;32m---> 55\u001b[1;33m     \u001b[0mdelta\u001b[0m \u001b[1;33m=\u001b[0m \u001b[0me_y\u001b[0m \u001b[1;33m+\u001b[0m \u001b[0mnp\u001b[0m\u001b[1;33m.\u001b[0m\u001b[0marctan2\u001b[0m\u001b[1;33m(\u001b[0m\u001b[0mk\u001b[0m\u001b[1;33m*\u001b[0m\u001b[0me_psi\u001b[0m\u001b[1;33m,\u001b[0m \u001b[0mcurrent_position\u001b[0m\u001b[1;33m[\u001b[0m\u001b[1;36m3\u001b[0m\u001b[1;33m]\u001b[0m\u001b[1;33m)\u001b[0m\u001b[1;33m\u001b[0m\u001b[1;33m\u001b[0m\u001b[0m\n\u001b[0m\u001b[0;32m     56\u001b[0m \u001b[1;33m\u001b[0m\u001b[0m\n\u001b[0;32m     57\u001b[0m     \u001b[1;31m# Limit the steering angle to [-pi/4, pi/4]\u001b[0m\u001b[1;33m\u001b[0m\u001b[1;33m\u001b[0m\u001b[0m\n",
      "\u001b[1;31mIndexError\u001b[0m: index 3 is out of bounds for axis 0 with size 3"
     ]
    }
   ],
   "source": [
    "import numpy as np\n",
    "import matplotlib.pyplot as plt\n",
    "\n",
    "\n",
    "class Car:\n",
    "    def __init__(self, x, y, orientation):\n",
    "        self.x = x\n",
    "        self.y = y\n",
    "        self.orientation = orientation\n",
    "    \n",
    "    def get_position(self):\n",
    "        return (self.x, self.y, self.orientation)\n",
    "\n",
    "    def next_position(self, steering_angle, speed, dt):\n",
    "        self.x += speed * np.cos(self.orientation) * dt\n",
    "        self.y += speed * np.sin(self.orientation) * dt\n",
    "        self.orientation += speed / L * np.tan(steering_angle) * dt\n",
    "\n",
    "import numpy as np\n",
    "\n",
    "import numpy as np\n",
    "\n",
    "import numpy as np\n",
    "\n",
    "import numpy as np\n",
    "\n",
    "import numpy as np\n",
    "\n",
    "import numpy as np\n",
    "\n",
    "def stanley_controller(current_position, Vd, L=2.5, k=1.0):\n",
    "    # current_position: current position of the car [x, y, theta, speed]\n",
    "    # Vd: desired path (array of points, Nx2)\n",
    "    # L: distance between front and rear axles (default: 2.5)\n",
    "    # k: gain for the cross-track error (default: 1.0)\n",
    "\n",
    "    # Compute the cross-track error\n",
    "    # find closest point on the desired path\n",
    "    closest_index = np.argmin(np.sum((Vd - current_position[:2])**2, axis=1))\n",
    "    closest_point = Vd[closest_index]\n",
    "    next_index = closest_index + 1 if closest_index < len(Vd)-1 else closest_index\n",
    "    next_point = Vd[next_index]\n",
    "    ex = closest_point[0] - current_position[0]\n",
    "    ey = closest_point[1] - current_position[1]\n",
    "    e_psi = np.arctan2(next_point[1]-closest_point[1], next_point[0]-closest_point[0]) - current_position[2]\n",
    "    e_y = np.arctan2(ey, ex) - current_position[2]\n",
    "\n",
    "    # Normalize the cross-track error to [-pi, pi]\n",
    "    while e_y > np.pi:\n",
    "        e_y -= 2*np.pi\n",
    "    while e_y < -np.pi:\n",
    "        e_y += 2*np.pi\n",
    "\n",
    "    # Compute the steering angle\n",
    "    delta = e_y + np.arctan2(k*e_psi, current_position[3])\n",
    "\n",
    "    # Limit the steering angle to [-pi/4, pi/4]\n",
    "    delta = np.clip(delta, -np.pi/4, np.pi/4)\n",
    "\n",
    "    # Return the steering angle\n",
    "    return delta\n",
    "\n",
    "\n",
    "\n",
    "\n",
    "\n",
    "def simulate_car(path, car, speed, dt, max_iterations):\n",
    "    initial_pose = car.get_position()\n",
    "    trajectory = [initial_pose]\n",
    "    current_pose = np.array(initial_pose)\n",
    "    iteration = 0\n",
    "    print(path)\n",
    "\n",
    "    while iteration < max_iterations:\n",
    "        steering_angle = stanley_controller(current_pose, path)\n",
    "        car.next_position(steering_angle, speed, dt)\n",
    "        current_pose = car.get_position()\n",
    "        trajectory.append(current_pose.copy())\n",
    "        iteration += 1\n",
    "    return np.array(trajectory)\n",
    "\n",
    "path = np.array([[0, 0], [5, 0], [10, 3], [15, 6], [20, 9], [25, 12], [30, 15], [30, 20]])\n",
    "path = path[-2:]\n",
    "car = Car(0, 0, 0)\n",
    "# initial_pose = np.array([0, -1, 0])\n",
    "# speed = 1.0\n",
    "# k_e = 0.5\n",
    "# k_theta = 2.0\n",
    "# dt = 0.1\n",
    "# distance_threshold = 0.1\n",
    "max_iterations = 500\n",
    "lookahead_distance = 1.4\n",
    "\n",
    "trajectory = simulate_car(path, car, speed, dt, max_iterations)\n",
    "\n",
    "plt.figure()\n",
    "plt.plot(path[:, 0], path[:, 1], 'ro-', linewidth=2, label='Path')\n",
    "plt.plot(trajectory[:, 0], trajectory[:, 1], 'b-', linewidth=2, label='Trajectory')\n",
    "plt.xlabel('X')\n",
    "plt.ylabel('Y')\n",
    "plt.legend()\n",
    "plt.title('Car Simulation Using Stanley Controller')\n",
    "plt.grid(True)\n",
    "plt.show()\n"
   ]
  },
  {
   "cell_type": "code",
   "execution_count": 255,
   "id": "0eee3637",
   "metadata": {},
   "outputs": [],
   "source": [
    "p0, p1 = path"
   ]
  },
  {
   "cell_type": "code",
   "execution_count": 238,
   "id": "122a57b1",
   "metadata": {},
   "outputs": [
    {
     "data": {
      "text/plain": [
       "array([0, 0, 0, 0, 0, 0, 0, 0, 0, 0, 0, 0, 0, 0, 0, 0, 0, 0, 0, 0, 0, 0,\n",
       "       0, 0, 0, 0, 0, 0, 0, 0, 0, 0, 0, 0, 0, 0, 0, 0, 0, 0, 0, 0, 0, 0,\n",
       "       0, 0, 0, 0, 0, 0, 0, 0, 0, 0, 0, 0, 0, 0, 0, 0, 0, 0, 0, 0, 0, 0,\n",
       "       0, 0, 0, 0, 0, 0, 0, 0, 0, 0, 0, 0, 0, 0, 0, 0, 0, 0, 0, 0, 0, 0,\n",
       "       0, 0, 0, 0, 0, 0, 0, 0, 0, 0, 0, 0, 0, 0, 0, 0, 0, 0, 0, 0, 0, 0,\n",
       "       0, 0, 0, 0, 0, 0, 0, 0, 0, 0, 0, 0, 0, 0, 0, 0, 0, 0, 0, 0, 0, 0,\n",
       "       0, 0, 0, 0, 0, 0, 0, 0, 0, 0, 0, 0, 0, 0, 0, 0, 0, 0, 0, 0, 0, 0,\n",
       "       0, 0, 0, 0, 0, 0, 0, 0, 0, 0, 0, 0, 0, 0, 0, 0, 0, 0, 0, 0, 0, 0,\n",
       "       0, 0, 0, 0, 0, 0, 0, 0, 0, 0, 0, 0, 0, 0, 0, 0, 0, 0, 0, 0, 0, 0,\n",
       "       0, 0, 0, 0, 0, 0, 0, 0, 0, 0, 0, 0, 0, 0, 0, 0, 0, 0, 0, 0, 0, 0,\n",
       "       0, 0, 0, 0, 0, 0, 0, 0, 0, 0, 0, 0, 0, 0, 0, 0, 0, 0, 0, 0, 0, 0,\n",
       "       0, 0, 0, 0, 0, 0, 0, 0, 0, 0, 0, 0, 0, 0, 0, 0, 0, 0, 0, 0, 0, 0,\n",
       "       0, 0, 0, 0, 0, 0, 0, 0, 0, 0, 0, 0, 0, 0, 0, 0, 0, 0, 0, 0, 0, 0,\n",
       "       0, 0, 0, 0, 0, 0, 0, 0, 0, 0, 0, 0, 0, 0, 0, 0, 0, 0, 0, 0, 0, 0,\n",
       "       0, 0, 0, 0, 0, 0, 0, 0, 0, 0, 0, 0, 0, 0, 0, 0, 0, 0, 0, 0, 0, 0,\n",
       "       0, 0, 0, 0, 0, 0, 0, 0, 0, 0, 0, 0, 0, 0, 0, 0, 0, 0, 0, 0, 0, 0,\n",
       "       0, 0, 0, 0, 0, 0, 0, 0, 0, 0, 0, 0, 0, 0, 0, 0, 0, 0, 0, 0, 0, 0,\n",
       "       0, 0, 0, 0, 0, 0, 0, 0, 0, 0, 0, 0, 0, 0, 0, 0, 0, 0, 0, 0, 0, 0,\n",
       "       0, 0, 0, 0, 0, 0, 0, 0, 0, 0, 0, 0, 0, 0, 0, 0, 0, 0, 0, 0, 0, 0,\n",
       "       0, 0, 0, 0, 0, 0, 0, 0, 0, 0, 0, 0, 0, 0, 0, 0, 0, 0, 0, 0, 0, 0,\n",
       "       0, 0, 0, 0, 0, 0, 0, 0, 0, 0, 0, 0, 0, 0, 0, 0, 0, 0, 0, 0, 0, 0,\n",
       "       0, 0, 0, 0, 0, 0, 0, 0, 0, 0, 0, 0, 0, 0, 0, 0, 0, 0, 0, 0, 0, 0,\n",
       "       0, 0, 0, 0, 0, 0, 0, 0, 0, 0, 0, 0, 0, 0, 0, 0, 0])"
      ]
     },
     "execution_count": 238,
     "metadata": {},
     "output_type": "execute_result"
    }
   ],
   "source": [
    "trajectory[:, 0]"
   ]
  },
  {
   "cell_type": "code",
   "execution_count": 181,
   "id": "845f16d9",
   "metadata": {},
   "outputs": [],
   "source": [
    "def calculate_next_position(current_position, steering_angle, velocity, dt):\n",
    "    # current_position: (x, y, theta) tuple\n",
    "    # steering_angle: angle in radians\n",
    "    # velocity: scalar value\n",
    "    # dt: time step\n",
    "    \n",
    "    x, y, theta = current_position\n",
    "    # calculate the turning radius of the vehicle\n",
    "    turning_radius = velocity / math.tan(steering_angle)\n",
    "    \n",
    "    if abs(steering_angle) < 1e-6:\n",
    "        # if steering angle is close to zero, move straight\n",
    "        x += velocity * dt * math.cos(theta)\n",
    "        y += velocity * dt * math.sin(theta)\n",
    "    else:\n",
    "        # calculate the center of curvature of the vehicle's path\n",
    "        cx = x - turning_radius * math.sin(theta)\n",
    "        cy = y + turning_radius * math.cos(theta)\n",
    "        # calculate the next position using the kinematic bicycle model\n",
    "        next_x = cx + turning_radius * math.sin(theta + velocity*dt/turning_radius)\n",
    "        next_y = cy - turning_radius * math.cos(theta + velocity*dt/turning_radius)\n",
    "        next_theta = theta + velocity*dt/turning_radius\n",
    "    \n",
    "        # ensure that the orientation angle is within the range [-pi, pi]\n",
    "        next_theta = (next_theta + math.pi) % (2*math.pi) - math.pi\n",
    "    \n",
    "        return (next_x, next_y, next_theta)"
   ]
  },
  {
   "cell_type": "code",
   "execution_count": 227,
   "id": "1ddf365a",
   "metadata": {
    "scrolled": true
   },
   "outputs": [
    {
     "data": {
      "image/png": "[encoded data removed]",
      "text/plain": [
       "<Figure size 432x288 with 1 Axes>"
      ]
     },
     "metadata": {
      "needs_background": "light"
     },
     "output_type": "display_data"
    }
   ],
   "source": [
    "import numpy as np\n",
    "import matplotlib.pyplot as plt\n",
    "\n",
    "def stanley_controller(path, current_pose, speed, k_e, k_theta, lookahead_distance):\n",
    "    dx = path[:, 0] - current_pose[0]\n",
    "    dy = path[:, 1] - current_pose[1]\n",
    "    dist = np.sqrt(dx**2 + dy**2)\n",
    "    closest_idx = np.argmin(dist)\n",
    "\n",
    "    lookahead_idx = closest_idx\n",
    "    while lookahead_idx < len(path) - 1:\n",
    "        if np.linalg.norm(path[lookahead_idx] - current_pose[:2]) > lookahead_distance:\n",
    "            break\n",
    "        lookahead_idx += 1\n",
    "\n",
    "    # Calculate the cross-track error (CTE) with correct sign\n",
    "    segment_vec = path[closest_idx + 1] - path[closest_idx]\n",
    "    segment_heading = np.arctan2(segment_vec[1], segment_vec[0])\n",
    "    pose_vec = current_pose[:2] - path[closest_idx]\n",
    "    cte_sign = np.sign(np.cross(segment_vec, pose_vec))\n",
    "    cte = dist[closest_idx] * cte_sign\n",
    "\n",
    "    # Calculate the heading error\n",
    "    path_heading = np.arctan2(dy[lookahead_idx], dx[lookahead_idx])\n",
    "    heading_error = path_heading - current_pose[2]\n",
    "    heading_error = np.arctan2(np.sin(heading_error), np.cos(heading_error))\n",
    "\n",
    "    # Calculate the steering angle\n",
    "    steering_angle = heading_error + np.arctan2(k_e * cte, speed)\n",
    "\n",
    "    return steering_angle\n",
    "\n",
    "\n",
    "def simulate_car(path, initial_pose, speed, k_e, k_theta, dt, distance_threshold, max_iterations, lookahead_distance):\n",
    "    trajectory = [initial_pose]\n",
    "    current_pose = np.array(initial_pose)\n",
    "    iteration = 0\n",
    "\n",
    "    while np.linalg.norm(path[-1] - current_pose[:2]) > distance_threshold and iteration < max_iterations:\n",
    "        steering_angle = stanley_controller(path, current_pose, speed, k_e, k_theta, lookahead_distance)\n",
    "\n",
    "        current_pose[0] += speed * np.cos(current_pose[2]) * dt\n",
    "        current_pose[1] += speed * np.sin(current_pose[2]) * dt\n",
    "        current_pose[2] += speed / 2.5 * np.tan(steering_angle) * dt\n",
    "\n",
    "        trajectory.append(current_pose.copy())\n",
    "        iteration += 1\n",
    "\n",
    "    return np.array(trajectory)\n",
    "\n",
    "path = np.array([[0, 0], [5, 0], [10, 3], [15, 6], [20, 9], [25, 12], [30, 15], [30, 20]])\n",
    "initial_pose = np.array([0, -1, np.pi/18])\n",
    "speed = 1.0\n",
    "k_e = 0.5\n",
    "k_theta = 2.0\n",
    "dt = 0.1\n",
    "distance_threshold = 0.1\n",
    "max_iterations = 500\n",
    "lookahead_distance = 1.0\n",
    "\n",
    "trajectory = simulate_car(path, initial_pose, speed, k_e, k_theta, dt, distance_threshold, max_iterations, lookahead_distance)\n",
    "\n",
    "plt.figure()\n",
    "plt.plot(path[:, 0], path[:, 1], 'ro-', linewidth=2, label='Path')\n",
    "plt.plot(trajectory[:, 0], trajectory[:, 1], 'b-', linewidth=2, label='Trajectory')\n",
    "plt.xlabel('X')\n",
    "plt.ylabel('Y')\n",
    "plt.legend()\n",
    "plt.title('Car Simulation Using Stanley Controller')\n",
    "plt.grid(True)\n",
    "plt.show()\n"
   ]
  },
  {
   "cell_type": "code",
   "execution_count": 189,
   "id": "13a50960",
   "metadata": {
    "scrolled": true
   },
   "outputs": [
    {
     "data": {
      "image/png": "[encoded data removed]",
      "text/plain": [
       "<Figure size 432x288 with 1 Axes>"
      ]
     },
     "metadata": {
      "needs_background": "light"
     },
     "output_type": "display_data"
    }
   ],
   "source": [
    "def simulate_car(path, initial_pose, speed, k_e, k_theta, dt, distance_threshold, max_iterations, lookahead_distance):\n",
    "    \"\"\"\n",
    "    Simulates a car driving according to a given path using the Stanley controller.\n",
    "\n",
    "    Parameters:\n",
    "    path (numpy array): Nx2 array containing the path points [x, y]\n",
    "    initial_pose (tuple): A tuple containing the vehicle's initial (x, y, theta) pose\n",
    "    speed (float): The vehicle's constant speed\n",
    "    k_e (float): Gain for cross-track error (CTE)\n",
    "    k_theta (float): Gain for heading error\n",
    "    dt (float): Time step for the simulation\n",
    "    distance_threshold (float): Distance from the last waypoint at which the car is considered to have reached its destination\n",
    "    max_iterations (int): Maximum number of iterations for the simulation\n",
    "\n",
    "    Returns:\n",
    "    trajectory (numpy array): A numpy array of shape Nx3 containing the vehicle's (x, y, theta) trajectory\n",
    "    \"\"\"\n",
    "    trajectory = [initial_pose]\n",
    "    current_pose = np.array(initial_pose)\n",
    "    iteration = 0\n",
    "\n",
    "    while np.linalg.norm(path[-1] - current_pose[:2]) > distance_threshold and iteration < max_iterations:\n",
    "#         steering_angle = stanley_controller(path, current_pose, speed, k_e, k_theta)\n",
    "        steering_angle = stanley_controller(path, current_pose, speed, k_e, k_theta, lookahead_distance)\n",
    "\n",
    "        # Update the vehicle's pose using a simple bicycle model\n",
    "        current_pose[0] += speed * np.cos(current_pose[2]) * dt\n",
    "        current_pose[1] += speed * np.sin(current_pose[2]) * dt\n",
    "        current_pose[2] += speed / 2.5 * np.tan(steering_angle) * dt\n",
    "\n",
    "        trajectory.append(current_pose.copy())\n",
    "        iteration += 1\n",
    "\n",
    "    return np.array(trajectory)\n",
    "\n",
    "# Parameters for the simulation\n",
    "distance_threshold = 0.1\n",
    "max_iterations = 1000\n",
    "# Parameters for the simulation\n",
    "lookahead_distance = 1.0\n",
    "\n",
    "# Simulate the car driving along the given path\n",
    "trajectory = simulate_car(path, initial_pose, speed, k_e, k_theta, dt, distance_threshold, max_iterations, lookahead_distance)\n",
    "\n",
    "# Plot the path and the vehicle's trajectory\n",
    "plt.figure()\n",
    "plt.plot(path[:, 0], path[:, 1], 'ro-', linewidth=2, label='Path')\n",
    "plt.plot(trajectory[:, 0], trajectory[:, 1], 'b-', linewidth=2, label='Trajectory')\n",
    "plt.xlabel('X')\n",
    "plt.ylabel('Y')\n",
    "plt.legend()\n",
    "plt.title('Car Simulation Using Stanley Controller')\n",
    "plt.grid(True)\n",
    "plt.show()\n"
   ]
  },
  {
   "cell_type": "code",
   "execution_count": 229,
   "id": "adec8a6c",
   "metadata": {},
   "outputs": [
    {
     "data": {
      "image/png": "[encoded data removed]",
      "text/plain": [
       "<Figure size 432x288 with 1 Axes>"
      ]
     },
     "metadata": {
      "needs_background": "light"
     },
     "output_type": "display_data"
    }
   ],
   "source": [
    "import numpy as np\n",
    "import matplotlib.pyplot as plt\n",
    "\n",
    "def stanley_controller(path, current_pose, speed, k_e, k_theta, lookahead_distance):\n",
    "    return 0\n",
    "    dx = path[:, 0] - current_pose[0]\n",
    "    dy = path[:, 1] - current_pose[1]\n",
    "    dist = np.sqrt(dx**2 + dy**2)\n",
    "    closest_idx = np.argmin(dist)\n",
    "\n",
    "    lookahead_idx = closest_idx\n",
    "    while lookahead_idx < len(path) - 1:\n",
    "        if np.linalg.norm(path[lookahead_idx] - current_pose[:2]) > lookahead_distance:\n",
    "            break\n",
    "        lookahead_idx += 1\n",
    "\n",
    "    # Calculate the cross-track error (CTE) with correct sign\n",
    "    segment_vec = path[closest_idx + 1] - path[closest_idx]\n",
    "    segment_heading = np.arctan2(segment_vec[1], segment_vec[0])\n",
    "    pose_vec = current_pose[:2] - path[closest_idx]\n",
    "    cte_sign = np.sign(np.cross(segment_vec, pose_vec))\n",
    "    cte = dist[closest_idx] * cte_sign\n",
    "\n",
    "    # Calculate the heading error\n",
    "    path_heading = np.arctan2(dy[lookahead_idx], dx[lookahead_idx])\n",
    "    heading_error = path_heading - current_pose[2]\n",
    "    heading_error = np.arctan2(np.sin(heading_error), np.cos(heading_error))\n",
    "\n",
    "    # Calculate the steering angle\n",
    "    steering_angle = heading_error + np.arctan2(k_e * cte, speed)\n",
    "\n",
    "    return steering_angle\n",
    "\n",
    "\n",
    "def simulate_car(path, initial_pose, speed, k_e, k_theta, dt, distance_threshold, max_iterations, lookahead_distance):\n",
    "    trajectory = [initial_pose]\n",
    "    current_pose = np.array(initial_pose)\n",
    "    iteration = 0\n",
    "\n",
    "    while np.linalg.norm(path[-1] - current_pose[:2]) > distance_threshold and iteration < max_iterations:\n",
    "        steering_angle = stanley_controller(path, current_pose, speed, k_e, k_theta, lookahead_distance)\n",
    "\n",
    "        current_pose[0] += speed * np.cos(current_pose[2]) * dt\n",
    "        current_pose[1] += speed * np.sin(current_pose[2]) * dt\n",
    "        current_pose[2] += speed / 2.5 * np.tan(steering_angle) * dt\n",
    "\n",
    "        trajectory.append(current_pose.copy())\n",
    "        iteration += 1\n",
    "\n",
    "    return np.array(trajectory)\n",
    "\n",
    "path = np.array([[0, 0], [5, 0], [10, 3], [15, 6], [20, 9], [25, 12], [30, 15], [30, 20]])\n",
    "initial_pose = np.array([0, -1, np.pi/18])\n",
    "speed = 1.0\n",
    "k_e = 0.5\n",
    "k_theta = 2.0\n",
    "dt = 0.1\n",
    "distance_threshold = 0.1\n",
    "max_iterations = 500\n",
    "lookahead_distance = 1.0\n",
    "\n",
    "trajectory = simulate_car(path, initial_pose, speed, k_e, k_theta, dt, distance_threshold, max_iterations, lookahead_distance)\n",
    "\n",
    "plt.figure()\n",
    "plt.plot(path[:, 0], path[:, 1], 'ro-', linewidth=2, label='Path')\n",
    "plt.plot(trajectory[:, 0], trajectory[:, 1], 'b-', linewidth=2, label='Trajectory')\n",
    "plt.xlabel('X')\n",
    "plt.ylabel('Y')\n",
    "plt.legend()\n",
    "plt.title('Car Simulation Using Stanley Controller')\n",
    "plt.grid(True)\n",
    "plt.show()\n"
   ]
  },
  {
   "cell_type": "code",
   "execution_count": 171,
   "id": "f58508c9",
   "metadata": {},
   "outputs": [],
   "source": [
    "line = lambda x: 2*x+3\n",
    "line = lambda x: 3*np.ones(len(x))\n",
    "t = 0\n",
    "x = np.arange(10)\n",
    "y = line(x)\n",
    "path = np.array([x, y]).transpose()\n",
    "current_pose  = np.array([0,0, 0])\n",
    "velocity = 0.1\n",
    "# point1 = np.array([1, line(1)])\n",
    "viacle_path = []\n",
    "for i in range(100):\n",
    "    steering_angle = stanley_controller(path, current_pose, velocity, 1, 1)\n",
    "    next_pose = calculate_next_position(current_position=current_pose, steering_angle=steering_angle, velocity=velocity, dt=1)\n",
    "    viacle_path.append(next_pose[:-1])\n",
    "    current_pose = next_pose\n",
    "viacle_path = np.array(viacle_path)"
   ]
  },
  {
   "cell_type": "code",
   "execution_count": 172,
   "id": "e337a9de",
   "metadata": {
    "scrolled": false
   },
   "outputs": [
    {
     "data": {
      "text/plain": [
       "<matplotlib.collections.PathCollection at 0x296777f4400>"
      ]
     },
     "execution_count": 172,
     "metadata": {},
     "output_type": "execute_result"
    },
    {
     "data": {
      "image/png": "[encoded data removed]",
      "text/plain": [
       "<Figure size 432x288 with 1 Axes>"
      ]
     },
     "metadata": {
      "needs_background": "light"
     },
     "output_type": "display_data"
    }
   ],
   "source": [
    "plt.scatter(*zip(*path))\n",
    "plt.scatter(*zip(*viacle_path))\n",
    "plt.scatter(init_point[0], init_point[1])\n",
    "plt.scatter(next_pose[0], next_pose[1])\n",
    "\n",
    "# plt.quiver(path[t][0], path[t][1], vr[0], vr[1], angles='xy', scale_units='xy', scale=1)\n",
    "# plt.quiver(path[t][0], path[t][1], vt[0], vt[1], angles='xy', scale_units='xy', scale=1)"
   ]
  },
  {
   "cell_type": "code",
   "execution_count": null,
   "id": "d77b59f9",
   "metadata": {},
   "outputs": [],
   "source": []
  },
  {
   "cell_type": "code",
   "execution_count": null,
   "id": "f90ccbfb",
   "metadata": {},
   "outputs": [],
   "source": []
  },
  {
   "cell_type": "code",
   "execution_count": 226,
   "id": "ea306513",
   "metadata": {
    "scrolled": true
   },
   "outputs": [
    {
     "data": {
      "image/png": "[encoded data removed]",
      "text/plain": [
       "<Figure size 432x288 with 1 Axes>"
      ]
     },
     "metadata": {
      "needs_background": "light"
     },
     "output_type": "display_data"
    }
   ],
   "source": [
    "import numpy as np\n",
    "\n",
    "class Car:\n",
    "    def __init__(self, x, y, yaw, speed):\n",
    "        self.x = x\n",
    "        self.y = y\n",
    "        self.yaw = yaw\n",
    "        self.speed = speed\n",
    "\n",
    "    def update_state(self, delta_yaw, speed):\n",
    "        self.yaw += delta_yaw\n",
    "        self.x += self.speed * np.cos(self.yaw)\n",
    "        self.y += self.speed * np.sin(self.yaw)\n",
    "        self.speed = speed\n",
    "\n",
    "def stanley_control(car, path_x, path_y, path_yaw, k):\n",
    "    error_x = path_x - car.x\n",
    "    error_y = path_y - car.y\n",
    "    error_yaw = path_yaw - car.yaw\n",
    "    \n",
    "    cross_track_error = error_x * np.sin(car.yaw) - error_y * np.cos(car.yaw)\n",
    "    yaw_error = np.arctan2(error_y, error_x) - car.yaw\n",
    "    \n",
    "    if car.speed < 0:\n",
    "        yaw_error = np.pi - yaw_error\n",
    "        \n",
    "    steering_angle = yaw_error + np.arctan2(k * cross_track_error, car.speed)\n",
    "    \n",
    "    return steering_angle\n",
    "\n",
    "import numpy as np\n",
    "import matplotlib.pyplot as plt\n",
    "\n",
    "# ... (Car class and stanley_control function)\n",
    "\n",
    "def simulate_car_movement(car, path_x, path_y, path_yaw, k=0.5, dt=0.1, max_simulation_time=100.0):\n",
    "    car_trajectory = []\n",
    "    time = 0.0\n",
    "    target_idx = 0\n",
    "    \n",
    "    while time <= max_simulation_time:\n",
    "        if target_idx < len(path_x) - 1:\n",
    "            distance_to_target = np.hypot(path_x[target_idx] - car.x, path_y[target_idx] - car.y)\n",
    "            if distance_to_target < 0.5:\n",
    "                target_idx += 1\n",
    "                \n",
    "        stanley_steering_angle = stanley_control(car, path_x[target_idx], path_y[target_idx], path_yaw[target_idx], k)\n",
    "        car_speed = 1.0  # constant speed\n",
    "        delta_yaw = stanley_steering_angle * dt\n",
    "        car.update_state(delta_yaw, car_speed)\n",
    "        \n",
    "        car_trajectory.append((car.x, car.y, car.yaw))\n",
    "        time += dt\n",
    "        \n",
    "    return car_trajectory\n",
    "\n",
    "# Example usage\n",
    "path_x = np.arange(0, 50, 1)\n",
    "path_y = np.sin(0.1 * path_x)\n",
    "path_yaw = np.arctan2(np.gradient(path_y), np.gradient(path_x))\n",
    "\n",
    "initial_car_x, initial_car_y, initial_car_yaw = 0.0, 0.0, 0.0\n",
    "car = Car(initial_car_x, initial_car_y, initial_car_yaw, 0.0)\n",
    "car_trajectory = simulate_car_movement(car, path_x, path_y, path_yaw, max_simulation_time=10)\n",
    "\n",
    "# Extract x and y coordinates of the car's trajectory\n",
    "car_trajectory_x = [pos[0] for pos in car_trajectory]\n",
    "car_trajectory_y = [pos[1] for pos in car_trajectory]\n",
    "\n",
    "# Plot the wanted path (blue) and the car's path (red)\n",
    "plt.figure()\n",
    "plt.plot(path_x, path_y, \"b-\", label=\"Wanted path\")\n",
    "plt.plot(car_trajectory_x, car_trajectory_y, \"r-\", label=\"Car path\")\n",
    "plt.xlabel(\"X\")\n",
    "plt.ylabel(\"Y\")\n",
    "plt.legend()\n",
    "plt.title(\"Wanted path vs Car path\")\n",
    "plt.grid(True)\n",
    "plt.show()\n"
   ]
  },
  {
   "cell_type": "code",
   "execution_count": 200,
   "id": "d3825093",
   "metadata": {
    "scrolled": true
   },
   "outputs": [
    {
     "data": {
      "image/png": "[encoded data removed]",
      "text/plain": [
       "<Figure size 432x288 with 1 Axes>"
      ]
     },
     "metadata": {
      "needs_background": "light"
     },
     "output_type": "display_data"
    }
   ],
   "source": [
    "import numpy as np\n",
    "import matplotlib.pyplot as plt\n",
    "\n",
    "class Car:\n",
    "    def __init__(self, x, y, orientation):\n",
    "        self.x = x\n",
    "        self.y = y\n",
    "        self.orientation = orientation\n",
    "\n",
    "    def next_position(self, steering_angle, speed, dt):\n",
    "        self.x += speed * np.cos(self.orientation) * dt\n",
    "        self.y += speed * np.sin(self.orientation) * dt\n",
    "        self.orientation += speed / L * np.tan(steering_angle) * dt\n",
    "\n",
    "def controller_algorithm(car, desired_path, lookahead_distance):\n",
    "    closest_point, closest_distance = None, float(\"inf\")\n",
    "    for point in desired_path:\n",
    "        distance = np.sqrt((car.x - point[0])**2 + (car.y - point[1])**2)\n",
    "        if distance < closest_distance:\n",
    "            closest_point, closest_distance = point, distance\n",
    "\n",
    "    lookahead_x, lookahead_y = closest_point\n",
    "    if lookahead_distance > closest_distance:\n",
    "        dx = desired_path[-1][0] - car.x\n",
    "        dy = desired_path[-1][1] - car.y\n",
    "    else:\n",
    "        dx = lookahead_x - car.x\n",
    "        dy = lookahead_y - car.y\n",
    "\n",
    "    angle_to_lookahead = np.arctan2(dy, dx) - car.orientation\n",
    "    return angle_to_lookahead\n",
    "\n",
    "def simulate(car, desired_path, controller, speed, lookahead_distance, dt, num_steps):\n",
    "    path = [(car.x, car.y)]\n",
    "    for _ in range(num_steps):\n",
    "        steering_angle = controller(car, desired_path, lookahead_distance)\n",
    "        car.next_position(steering_angle, speed, dt)\n",
    "        path.append((car.x, car.y))\n",
    "    return path\n",
    "\n",
    "# Parameters\n",
    "L = 2.0  # Car wheelbase\n",
    "speed = 1.0\n",
    "lookahead_distance = 1.0\n",
    "dt = 0.1\n",
    "num_steps = 500\n",
    "\n",
    "# Desired path (x, y)\n",
    "desired_path = [(i, np.sin(i/10)) for i in np.linspace(0, 100, 500)]\n",
    "\n",
    "# Initialize the car with initial position and orientation\n",
    "car = Car(0.0, 0.5, 0.0)\n",
    "\n",
    "# Simulate the car's path\n",
    "car_path = simulate(car, desired_path, controller_algorithm, speed, lookahead_distance, dt, num_steps)\n",
    "\n",
    "# Plot desired path and car path\n",
    "plt.figure()\n",
    "plt.plot([p[0] for p in desired_path], [p[1] for p in desired_path], 'r-', label='Desired Path')\n",
    "plt.plot([p[0] for p in car_path], [p[1] for p in car_path], 'b-', label='Car Path')\n",
    "plt.xlabel('X')\n",
    "plt.ylabel('Y')\n",
    "plt.legend()\n",
    "plt.show()\n"
   ]
  },
  {
   "cell_type": "code",
   "execution_count": 213,
   "id": "c334c0fd",
   "metadata": {
    "scrolled": true
   },
   "outputs": [
    {
     "data": {
      "image/png": "[encoded data removed]",
      "text/plain": [
       "<Figure size 432x288 with 1 Axes>"
      ]
     },
     "metadata": {
      "needs_background": "light"
     },
     "output_type": "display_data"
    }
   ],
   "source": [
    "import numpy as np\n",
    "import matplotlib.pyplot as plt\n",
    "\n",
    "class Car:\n",
    "    def __init__(self, x, y, orientation):\n",
    "        self.x = x\n",
    "        self.y = y\n",
    "        self.orientation = orientation\n",
    "\n",
    "    def next_position(self, steering_angle, speed, dt):\n",
    "        self.x += speed * np.cos(self.orientation) * dt\n",
    "        self.y += speed * np.sin(self.orientation) * dt\n",
    "        self.orientation += speed / L * np.tan(steering_angle) * dt\n",
    "\n",
    "def controller_algorithm(car, desired_path, lookahead_distance, Kp, Ki, Kd, prev_error, integral):\n",
    "    closest_point, closest_distance = None, float(\"inf\")\n",
    "    for point in desired_path:\n",
    "        distance = np.sqrt((car.x - point[0])**2 + (car.y - point[1])**2)\n",
    "        if distance < closest_distance:\n",
    "            closest_point, closest_distance = point, distance\n",
    "\n",
    "    lookahead_x, lookahead_y = closest_point\n",
    "    if lookahead_distance > closest_distance:\n",
    "        dx = desired_path[-1][0] - car.x\n",
    "        dy = desired_path[-1][1] - car.y\n",
    "    else:\n",
    "        dx = lookahead_x - car.x\n",
    "        dy = lookahead_y - car.y\n",
    "\n",
    "    angle_to_lookahead = np.arctan2(dy, dx) - car.orientation\n",
    "    error = angle_to_lookahead\n",
    "\n",
    "    # PID control\n",
    "    proportional = Kp * error\n",
    "    integral += Ki * error * dt\n",
    "    derivative = Kd * (error - prev_error) / dt\n",
    "    steering_angle = proportional + integral + derivative\n",
    "\n",
    "    return steering_angle, error\n",
    "\n",
    "def simulate(car, desired_path, controller, speed, lookahead_distance, Kp, Ki, Kd, dt, num_steps):\n",
    "    path = [(car.x, car.y)]\n",
    "    prev_error = 0\n",
    "    integral = 0\n",
    "    for _ in range(num_steps):\n",
    "        steering_angle, error = controller(car, desired_path, lookahead_distance, Kp, Ki, Kd, prev_error, integral)\n",
    "        car.next_position(steering_angle, speed, dt)\n",
    "        path.append((car.x, car.y))\n",
    "        prev_error = error\n",
    "    return path\n",
    "\n",
    "# Parameters\n",
    "L = 2.0  # Car wheelbase\n",
    "speed = 1.0\n",
    "lookahead_distance = 1.0\n",
    "Kp = 0.01\n",
    "Ki = 0.01\n",
    "Kd = 0.2\n",
    "dt = 0.1\n",
    "num_steps = 500\n",
    "\n",
    "# Desired path (x, y)\n",
    "desired_path = [(i, np.sin(i/10)) for i in np.linspace(0, 50, 500)]\n",
    "\n",
    "# Initialize the car with initial position and orientation\n",
    "car = Car(0.0, 0.5, 0.0)\n",
    "\n",
    "# Simulate the car's path\n",
    "car_path = simulate(car, desired_path, controller_algorithm, speed, lookahead_distance, Kp, Ki, Kd, dt, num_steps)\n",
    "\n",
    "# Plot desired path and car path\n",
    "plt.figure()\n",
    "plt.plot([p[0] for p in desired_path], [p[1] for p in desired_path], 'r-', label='Desired Path')\n",
    "plt.plot([p[0] for p in car_path], [p[1] for p in car_path], 'b-', label='Car Path')\n",
    "plt.xlabel('X')\n",
    "plt.ylabel('Y')\n",
    "plt.legend()\n",
    "plt.show()\n"
   ]
  },
  {
   "cell_type": "markdown",
   "id": "bbe32233",
   "metadata": {},
   "source": [
    "# Use feedforward NN"
   ]
  },
  {
   "cell_type": "code",
   "execution_count": 218,
   "id": "c1d70830",
   "metadata": {
    "scrolled": true
   },
   "outputs": [
    {
     "data": {
      "image/png": "[encoded data removed]",
      "text/plain": [
       "<Figure size 432x288 with 1 Axes>"
      ]
     },
     "metadata": {
      "needs_background": "light"
     },
     "output_type": "display_data"
    }
   ],
   "source": [
    "import numpy as np\n",
    "import matplotlib.pyplot as plt\n",
    "import torch\n",
    "import torch.nn as nn\n",
    "import torch.optim as optim\n",
    "\n",
    "class Car:\n",
    "    def __init__(self, x, y, orientation):\n",
    "        self.x = x\n",
    "        self.y = y\n",
    "        self.orientation = orientation\n",
    "\n",
    "    def next_position(self, steering_angle, speed, dt):\n",
    "        self.x += speed * np.cos(self.orientation) * dt\n",
    "        self.y += speed * np.sin(self.orientation) * dt\n",
    "        self.orientation += speed / L * np.tan(steering_angle) * dt\n",
    "\n",
    "# Neural network model\n",
    "# Neural network model\n",
    "class SteeringAngleNN(nn.Module):\n",
    "    def __init__(self):\n",
    "        super(SteeringAngleNN, self).__init__()\n",
    "        self.fc1 = nn.Linear(5, 32)  # Update input size to 5\n",
    "        self.fc2 = nn.Linear(32, 32)\n",
    "        self.fc3 = nn.Linear(32, 1)\n",
    "\n",
    "    def forward(self, x):\n",
    "        x = torch.relu(self.fc1(x))\n",
    "        x = torch.relu(self.fc2(x))\n",
    "        x = self.fc3(x)\n",
    "        return x\n",
    "\n",
    "\n",
    "def train_nn(model, train_data, epochs, learning_rate):\n",
    "    criterion = nn.MSELoss()\n",
    "    optimizer = optim.Adam(model.parameters(), lr=learning_rate)\n",
    "\n",
    "    for epoch in range(epochs):\n",
    "        for inputs, target in train_data:\n",
    "            optimizer.zero_grad()\n",
    "            outputs = model(inputs)\n",
    "            loss = criterion(outputs, target)\n",
    "            loss.backward()\n",
    "            optimizer.step()\n",
    "\n",
    "# Generate training data\n",
    "# Generate training data\n",
    "def generate_training_data(desired_path, dt, num_steps):\n",
    "    data = []\n",
    "    car = Car(0.0, 0.5, 0.0)\n",
    "    for i in range(1, num_steps):\n",
    "        dx = desired_path[i][0] - car.x\n",
    "        dy = desired_path[i][1] - car.y\n",
    "        angle_to_lookahead = np.arctan2(dy, dx) - car.orientation\n",
    "        steering_angle = angle_to_lookahead\n",
    "\n",
    "        inputs = torch.tensor([car.x, car.y, car.orientation, desired_path[i][0], desired_path[i][1]], dtype=torch.float32)\n",
    "        target = torch.tensor([steering_angle], dtype=torch.float32)\n",
    "        data.append((inputs, target))\n",
    "\n",
    "        car.next_position(steering_angle, speed, dt)\n",
    "\n",
    "    return data\n",
    "\n",
    "\n",
    "# Parameters\n",
    "L = 2.0  # Car wheelbase\n",
    "speed = 1.0\n",
    "dt = 0.1\n",
    "num_steps = 500\n",
    "\n",
    "# Desired path (x, y)\n",
    "desired_path = [(i, np.sin(i/10)) for i in np.linspace(0, 50, 500)]\n",
    "\n",
    "# Generate training data\n",
    "train_data = generate_training_data(desired_path, dt, num_steps)\n",
    "\n",
    "# Initialize and train the neural network\n",
    "nn_model = SteeringAngleNN()\n",
    "train_nn(nn_model, train_data, epochs=200, learning_rate=0.001)\n",
    "\n",
    "# Simulate the car's path using the neural network\n",
    "# Simulate the car's path using the neural network\n",
    "car = Car(0.0, 0.5, 0.0)\n",
    "car_path = [(car.x, car.y)]\n",
    "for i in range(1, num_steps):\n",
    "    inputs = torch.tensor([car.x, car.y, car.orientation, desired_path[i][0], desired_path[i][1]], dtype=torch.float32)\n",
    "    steering_angle = nn_model(inputs).item()\n",
    "    car.next_position(steering_angle, speed, dt)\n",
    "    car_path.append((car.x, car.y))\n",
    "    \n",
    "# Plot desired path and car path\n",
    "plt.figure()\n",
    "plt.plot([p[0] for p in desired_path], [p[1] for p in desired_path], 'r-', label='Desired Path')\n",
    "plt.plot([p[0] for p in car_path], [p[1] for p in car_path], 'b-', label='Car Path')\n",
    "plt.xlabel('X')\n",
    "plt.ylabel('Y')\n",
    "plt.legend()\n",
    "plt.show()\n"
   ]
  },
  {
   "cell_type": "code",
   "execution_count": 220,
   "id": "5e4e362e",
   "metadata": {
    "scrolled": true
   },
   "outputs": [
    {
     "data": {
      "text/plain": [
       "<function matplotlib.pyplot.xlabel(xlabel, fontdict=None, labelpad=None, *, loc=None, **kwargs)>"
      ]
     },
     "execution_count": 220,
     "metadata": {},
     "output_type": "execute_result"
    },
    {
     "data": {
      "image/png": "[encoded data removed]",
      "text/plain": [
       "<Figure size 432x288 with 1 Axes>"
      ]
     },
     "metadata": {
      "needs_background": "light"
     },
     "output_type": "display_data"
    }
   ],
   "source": [
    "import numpy as np\n",
    "import matplotlib.pyplot as plt\n",
    "\n",
    "class Car:\n",
    "    def __init__(self, x, y, orientation):\n",
    "        self.x = x\n",
    "        self.y = y\n",
    "        self.orientation = orientation\n",
    "\n",
    "    def next_position(self, steering_angle, speed, dt):\n",
    "        self.x += speed * np.cos(self.orientation) * dt\n",
    "        self.y += speed * np.sin(self.orientation) * dt\n",
    "        self.orientation += speed / L * np.tan(steering_angle) * dt\n",
    "\n",
    "def gradient_vector_flow(vx, vy, mu, iterations):\n",
    "    vxx, vxy = np.gradient(vx)\n",
    "    vyx, vyy = np.gradient(vy)\n",
    "    for _ in range(iterations):\n",
    "        vxx, vxy = np.gradient(vx)\n",
    "        vyx, vyy = np.gradient(vy)\n",
    "        vx += mu * (vxx + vxy)\n",
    "        vy += mu * (vyx + vyy)\n",
    "    return vx, vy\n",
    "\n",
    "def create_initial_vector_field(desired_path, grid_size):\n",
    "    vx = np.zeros(grid_size)\n",
    "    vy = np.zeros(grid_size)\n",
    "    for i in range(len(desired_path) - 1):\n",
    "        x1, y1 = desired_path[i]\n",
    "        x2, y2 = desired_path[i + 1]\n",
    "        vx[int(y1), int(x1)] = x2 - x1\n",
    "        vy[int(y1), int(x1)] = y2 - y1\n",
    "    return vx, vy\n",
    "\n",
    "def get_steering_angle(car, vx, vy):\n",
    "    x, y = int(car.y), int(car.x)\n",
    "    dx, dy = vx[y, x], vy[y, x]\n",
    "    angle_to_lookahead = np.arctan2(dy, dx) - car.orientation\n",
    "    return angle_to_lookahead\n",
    "\n",
    "# Parameters\n",
    "L = 2.0  # Car wheelbase\n",
    "speed = 1.0\n",
    "dt = 0.1\n",
    "num_steps = 500\n",
    "grid_size = (100, 100)\n",
    "\n",
    "# Desired path (x, y)\n",
    "desired_path = [(i, 50 + 10 * np.sin(i / 10)) for i in np.linspace(0, 50, 500)]\n",
    "\n",
    "# Create initial vector field and compute gradient vector flow\n",
    "vx_init, vy_init = create_initial_vector_field(desired_path, grid_size)\n",
    "vx_gvf, vy_gvf = gradient_vector_flow(vx_init, vy_init, mu=0.1, iterations=100)\n",
    "\n",
    "# Simulate the car's path using GVF\n",
    "car = Car(0.0, 50.5, 0.0)\n",
    "car_path = [(car.x, car.y)]\n",
    "for _ in range(1, num_steps):\n",
    "    steering_angle = get_steering_angle(car, vx_gvf, vy_gvf)\n",
    "    car.next_position(steering_angle, speed, dt)\n",
    "    car_path.append((car.x, car.y))\n",
    "\n",
    "# Plot desired path and car path\n",
    "plt.figure()\n",
    "plt.plot([p[0] for p in desired_path], [p[1] for p in desired_path], 'r-', label='Desired Path')\n",
    "plt.plot([p[0] for p in car_path], [p[1] for p in car_path], 'b-', label='Car Path')\n",
    "plt.xlabel\n"
   ]
  },
  {
   "cell_type": "code",
   "execution_count": 224,
   "id": "c68ce488",
   "metadata": {
    "scrolled": true
   },
   "outputs": [
    {
     "data": {
      "image/png": "[encoded data removed]",
      "text/plain": [
       "<Figure size 432x288 with 1 Axes>"
      ]
     },
     "metadata": {
      "needs_background": "light"
     },
     "output_type": "display_data"
    }
   ],
   "source": [
    "import numpy as np\n",
    "import matplotlib.pyplot as plt\n",
    "\n",
    "class Car:\n",
    "    def __init__(self, x, y, orientation):\n",
    "        self.x = x\n",
    "        self.y = y\n",
    "        self.orientation = orientation\n",
    "\n",
    "    def next_position(self, steering_angle, speed, dt):\n",
    "        self.x += speed * np.cos(self.orientation) * dt\n",
    "        self.y += speed * np.sin(self.orientation) * dt\n",
    "        self.orientation += speed / L * np.tan(steering_angle) * dt\n",
    "\n",
    "def discretize_state(car, desired_path, state_bins):\n",
    "    x_bin = np.digitize(car.x, state_bins[0])\n",
    "    y_bin = np.digitize(car.y, state_bins[1])\n",
    "    orientation_bin = np.digitize(car.orientation, state_bins[2])\n",
    "    desired_x_bin = np.digitize(desired_path[int(car.x)][0], state_bins[0])\n",
    "    desired_y_bin = np.digitize(desired_path[int(car.x)][1], state_bins[1])\n",
    "    return x_bin, y_bin, orientation_bin, desired_x_bin, desired_y_bin\n",
    "\n",
    "def epsilon_greedy_action(q_table, state, actions, epsilon):\n",
    "    if np.random.random() < epsilon:\n",
    "        return np.random.choice(len(actions))\n",
    "    else:\n",
    "        return np.argmax(q_table[state])\n",
    "\n",
    "def train_q_learning(q_table, desired_path, actions, state_bins, episodes, alpha, gamma, epsilon, speed, dt):\n",
    "    for _ in range(episodes):\n",
    "        car = Car(0.0, 0.5, 0.0)\n",
    "        state = discretize_state(car, desired_path, state_bins)\n",
    "        for i in range(1, num_steps):\n",
    "            action = epsilon_greedy_action(q_table, state, actions, epsilon)\n",
    "            steering_angle = actions[action]\n",
    "            car.next_position(steering_angle, speed, dt)\n",
    "            next_state = discretize_state(car, desired_path, state_bins)\n",
    "            reward = -np.linalg.norm(np.array((car.x, car.y)) - np.array(desired_path[int(car.x)]))\n",
    "            q_table[state][action] += alpha * (reward + gamma * np.max(q_table[next_state]) - q_table[state][action])\n",
    "            state = next_state\n",
    "    return q_table\n",
    "\n",
    "# Parameters\n",
    "L = 2.0  # Car wheelbase\n",
    "speed = 1.0\n",
    "dt = 0.1\n",
    "num_steps = 500\n",
    "\n",
    "# Desired path (x, y)\n",
    "desired_path = [(i, 50 + 10 * np.sin(i / 10)) for i in np.linspace(0, 50, num_steps)]\n",
    "\n",
    "# Q-learning parameters\n",
    "state_bins = [np.linspace(0, 50, 10),\n",
    "              np.linspace(40, 60, 10),\n",
    "              np.linspace(-np.pi, np.pi, 10)]\n",
    "actions = np.linspace(-np.pi / 4, np.pi / 4, 9)\n",
    "q_table = np.zeros((len(state_bins[0]) + 1, len(state_bins[1]) + 1, len(state_bins[2]) + 1, len(state_bins[0]) + 1, len(state_bins[1]) + 1, len(actions)))\n",
    "episodes = 200\n",
    "alpha = 0.1\n",
    "gamma = 0.99\n",
    "epsilon = 0.1\n",
    "\n",
    "# Train Q-table\n",
    "q_table = train_q_learning(q_table, desired_path, actions, state_bins, episodes, alpha, gamma, epsilon, speed, dt)\n",
    "# Simulate the car's path using the trained Q-table\n",
    "car = Car(0.0, 0.5, 0.0)\n",
    "car_path = [(car.x, car.y)]\n",
    "for i in range(1, num_steps):\n",
    "    state = discretize_state(car, desired_path, state_bins)\n",
    "    action_index = epsilon_greedy_action(q_table, state, actions, 0)  # Epsilon is set to 0 for using the learned policy\n",
    "    steering_angle = actions[action_index]\n",
    "    car.next_position(steering_angle, speed, dt)\n",
    "    car_path.append((car.x, car.y))\n",
    "\n",
    "# Plot desired path and car path\n",
    "plt.figure()\n",
    "plt.plot([p[0] for p in desired_path], [p[1] for p in desired_path], 'r-', label='Desired Path')\n",
    "plt.plot([p[0] for p in car_path], [p[1] for p in car_path], 'b-', label='Car Path')\n",
    "plt.xlabel('x')\n",
    "plt.ylabel('y')\n",
    "plt.legend()\n",
    "plt.show()\n"
   ]
  },
  {
   "cell_type": "code",
   "execution_count": 225,
   "id": "5e1b0262",
   "metadata": {},
   "outputs": [
    {
     "name": "stderr",
     "output_type": "stream",
     "text": [
      "C:\\Python39\\lib\\site-packages\\torch\\nn\\modules\\loss.py:536: UserWarning: Using a target size (torch.Size([64, 1])) that is different to the input size (torch.Size([64, 9])). This will likely lead to incorrect results due to broadcasting. Please ensure they have the same size.\n",
      "  return F.mse_loss(input, target, reduction=self.reduction)\n"
     ]
    },
    {
     "data": {
      "image/png": "[encoded data removed]",
      "text/plain": [
       "<Figure size 432x288 with 1 Axes>"
      ]
     },
     "metadata": {
      "needs_background": "light"
     },
     "output_type": "display_data"
    }
   ],
   "source": [
    "import torch\n",
    "import torch.nn as nn\n",
    "import torch.optim as optim\n",
    "from collections import deque\n",
    "import random\n",
    "\n",
    "class DQNAgent:\n",
    "    def __init__(self, input_dim, output_dim, hidden_dim, lr):\n",
    "        self.model = nn.Sequential(\n",
    "            nn.Linear(input_dim, hidden_dim),\n",
    "            nn.ReLU(),\n",
    "            nn.Linear(hidden_dim, hidden_dim),\n",
    "            nn.ReLU(),\n",
    "            nn.Linear(hidden_dim, output_dim)\n",
    "        )\n",
    "        self.optimizer = optim.Adam(self.model.parameters(), lr=lr)\n",
    "        self.criterion = nn.MSELoss()\n",
    "\n",
    "    def predict(self, state):\n",
    "        return self.model(state)\n",
    "\n",
    "    def update(self, state, target):\n",
    "        self.optimizer.zero_grad()\n",
    "        loss = self.criterion(self.model(state), target)\n",
    "        loss.backward()\n",
    "        self.optimizer.step()\n",
    "\n",
    "def train_dqn(agent, desired_path, actions, state_bins, episodes, gamma, epsilon, speed, dt, batch_size, buffer_size):\n",
    "    buffer = deque(maxlen=buffer_size)\n",
    "\n",
    "    for _ in range(episodes):\n",
    "        car = Car(0.0, 0.5, 0.0)\n",
    "        state = discretize_state(car, desired_path, state_bins)\n",
    "        state = torch.tensor(state, dtype=torch.float32).unsqueeze(0)\n",
    "\n",
    "        for _ in range(num_steps):\n",
    "            action_index = epsilon_greedy_action(agent, state, actions, epsilon)\n",
    "            steering_angle = actions[action_index]\n",
    "            car.next_position(steering_angle, speed, dt)\n",
    "            next_state = discretize_state(car, desired_path, state_bins)\n",
    "            next_state = torch.tensor(next_state, dtype=torch.float32).unsqueeze(0)\n",
    "            reward = -np.linalg.norm(np.array((car.x, car.y)) - np.array(desired_path[int(car.x)]))\n",
    "            buffer.append((state, action_index, reward, next_state))\n",
    "\n",
    "            if len(buffer) >= batch_size:\n",
    "                minibatch = random.sample(buffer, batch_size)\n",
    "                states, action_indices, rewards, next_states = zip(*minibatch)\n",
    "                states = torch.cat(states)\n",
    "                next_states = torch.cat(next_states)\n",
    "                rewards = torch.tensor(rewards, dtype=torch.float32).unsqueeze(1)\n",
    "                actions_mask = torch.tensor(action_indices, dtype=torch.int64).unsqueeze(1)\n",
    "\n",
    "                q_values = agent.predict(states).gather(1, actions_mask)\n",
    "                next_q_values = agent.predict(next_states).max(dim=1, keepdim=True)[0].detach()\n",
    "                target = rewards + gamma * next_q_values\n",
    "\n",
    "                agent.update(states, target)\n",
    "\n",
    "            state = next_state\n",
    "    return agent\n",
    "\n",
    "def epsilon_greedy_action(agent, state, actions, epsilon):\n",
    "    if np.random.random() < epsilon:\n",
    "        return np.random.choice(len(actions))\n",
    "    else:\n",
    "        q_values = agent.predict(state).detach()\n",
    "        return q_values.argmax(dim=1).item()\n",
    "\n",
    "# DQN parameters\n",
    "input_dim = 5\n",
    "output_dim = len(actions)\n",
    "hidden_dim = 32\n",
    "lr = 0.001\n",
    "episodes = 200\n",
    "gamma = 0.99\n",
    "epsilon = 0.1\n",
    "batch_size = 64\n",
    "buffer_size = 5000\n",
    "\n",
    "# Train DQN agent\n",
    "agent = DQNAgent(input_dim, output_dim, hidden_dim, lr)\n",
    "agent = train_dqn(agent, desired_path, actions, state_bins, episodes, gamma, epsilon, speed, dt, batch_size, buffer_size)\n",
    "\n",
    "# Simulate the car's path using the trained DQN agent\n",
    "car = Car(0.0, 0.5, 0.0)\n",
    "car_path = [(car.x, car.y)]\n",
    "for i in range(1, num_steps):\n",
    "    state = discretize_state(car, desired_path, state_bins)\n",
    "    state_tensor = torch.tensor(state, dtype=torch.float32).unsqueeze(0)\n",
    "    action_index = epsilon_greedy_action(agent, state_tensor, actions, 0)  # Epsilon is set to 0 for using the learned policy\n",
    "    steering_angle = actions[action_index]\n",
    "    car.next_position(steering_angle, speed, dt)\n",
    "    car_path.append((car.x, car.y))\n",
    "\n",
    "# Plot desired path and car path\n",
    "plt.figure()\n",
    "plt.plot([p[0] for p in desired_path], [p[1] for p in desired_path], 'r-', label='Desired Path')\n",
    "plt.plot([p[0] for p in car_path], [p[1] for p in car_path], 'b-', label='Car Path')\n",
    "plt.xlabel('x')\n",
    "plt.ylabel('y')\n",
    "plt.legend()\n",
    "plt.show()\n"
   ]
  },
  {
   "cell_type": "code",
   "execution_count": null,
   "id": "b1b75b60",
   "metadata": {},
   "outputs": [],
   "source": []
  },
  {
   "cell_type": "markdown",
   "id": "c5bfdbaa",
   "metadata": {},
   "source": [
    "# My method of optimization"
   ]
  },
  {
   "cell_type": "code",
   "execution_count": 313,
   "id": "f00e0070",
   "metadata": {
    "scrolled": true
   },
   "outputs": [
    {
     "name": "stdout",
     "output_type": "stream",
     "text": [
      "-0.7071067811865475\n"
     ]
    },
    {
     "data": {
      "text/plain": [
       "(-1.0, 4.0)"
      ]
     },
     "execution_count": 313,
     "metadata": {},
     "output_type": "execute_result"
    },
    {
     "data": {
      "image/png": "[encoded data removed]",
      "text/plain": [
       "<Figure size 432x288 with 1 Axes>"
      ]
     },
     "metadata": {
      "needs_background": "light"
     },
     "output_type": "display_data"
    }
   ],
   "source": [
    "import numpy\n",
    "from numpy.linalg import norm\n",
    "#hyper parameters\n",
    "ka = 1\n",
    "kd = 1\n",
    "w = 1\n",
    "b = 0\n",
    "learning_rate = 1\n",
    "#initiate state\n",
    "class car():\n",
    "    def __init__(initial_position, direction, velocity):\n",
    "        self.position = np.array(initial_position)\n",
    "        self._theta = direction\n",
    "        self.velocity = velocity\n",
    "        \n",
    "    def get_veclocity_vector(self):\n",
    "        return self.velocity*np.array([np.cos(self._theta), np.sin(self._theta)])\n",
    "    \n",
    "    def next_position(self, dt):\n",
    "        return self.position + self.get_velocity_vector()*dt\n",
    "    \n",
    "    def update_position(self, dt):\n",
    "        self.position = self.next_position(dt)\n",
    "\n",
    "itterations = 2        \n",
    "theta=0\n",
    "for t in range(itterations)\n",
    "p1 = np.array([0,0])\n",
    "p2 = np.array([1,1])\n",
    "velocity = 1\n",
    "vt = velocity*np.array([np.cos(theta), np.sin(theta)])\n",
    "dt = 1\n",
    "p = p2-p1\n",
    "px = p[0]\n",
    "py = p[1]\n",
    "theta_p = np.tan(py/px)\n",
    "#current position at time t\n",
    "ct = (1, 0)\n",
    "n = np.array([-p[0], p[1]])\n",
    "n_hat = n/norm(n)\n",
    "#cn is the next position at t+1\n",
    "delta_pos = vt*dt\n",
    "cn = ct+delta_pos\n",
    "d = abs(n_hat@cn)\n",
    "linear_term = -1*w*d+b\n",
    "exp = np.exp(linear_term)\n",
    "#calculate loss\n",
    "theta_error = abs(theta_p-theta)\n",
    "loss_angle = ka*theta_error*exp\n",
    "loss_d = kd*d\n",
    "#calculate loss gradient\n",
    "grad_ld = (kd*dt/norm(n))*np.sign(n@vt)*(px*np.cos(theta)+py*np.sin(theta))\n",
    "dtheta_error = np.sign(theta_p-theta)\n",
    "grad_la = ka*(exp*dtheta_error)+dtheta_error*linear_term*exp*-1*w*(grad_ld/kd)\n",
    "grad = grad_ld+grad_la\n",
    "new_theta = theta+learning_rate*grad\n",
    "print(new_theta)\n",
    "plt.scatter(ct[0], ct[1])\n",
    "plt.quiver(p1[0], p1[1], p2[0], p2[1], angles='xy', scale_units='xy', scale=0.5)\n",
    "plt.quiver(ct[0], ct[1], vt[0], vt[1], angles='xy', scale_units='xy', scale=1)\n",
    "plt.xlim([-1, 3])\n",
    "plt.ylim([-1, 4])\n",
    "# plt.scatter(*zip(*path))\n",
    "# plt.scatter(*zip(*viacle_path))\n",
    "# plt.scatter(init_point[0], init_point[1])\n",
    "# plt.quiver(path[t][0], path[t][1], vt[0], vt[1], angles='xy', scale_units='xy', scale=1)"
   ]
  },
  {
   "cell_type": "code",
   "execution_count": 160,
   "id": "8fa12ab4",
   "metadata": {},
   "outputs": [],
   "source": [
    "class Car():\n",
    "    def __init__(self, initial_position, direction, velocity):\n",
    "        self.position = np.array(initial_position)\n",
    "        self._theta = direction\n",
    "        self.velocity = velocity\n",
    "\n",
    "    def set_direction(self, theta):\n",
    "        self._theta = theta\n",
    "    \n",
    "    def get_direction(self):\n",
    "        return self._theta\n",
    "        \n",
    "    def get_velocity_vector(self):\n",
    "        return self.velocity*np.array([np.cos(self._theta), np.sin(self._theta)])\n",
    "    \n",
    "    def next_position(self, dt):\n",
    "        return self.position + self.get_velocity_vector()*dt\n",
    "    \n",
    "    def update_position(self, dt):\n",
    "        self.position = self.next_position(dt)\n",
    "        \n",
    "def plot_vec(point, vec):\n",
    "    point = np.array(point)\n",
    "    vec = np.array(vec)\n",
    "    projection = point+vec\n",
    "    plt.plot(point[0], point[1], 'ro', label='Point')\n",
    "    plt.plot(projection[0], projection[1], 'go', label='Projection')\n",
    "    # Plot the vector from the point to the projection\n",
    "    plt.arrow(point[0], point[1], projection[0] - point[0], projection[1] - point[1], width=0.05, color='m', label='Vector')\n",
    "\n",
    "def plot_line(p1,p2,x_scale):\n",
    "    p1 = np.array(p1)\n",
    "    p2 = np.array(p2)\n",
    "    p = p2-p1\n",
    "    x_min = x_scale[0]\n",
    "    x_max = x_scale[1]\n",
    "    x = np.linspace(x_min, x_max)\n",
    "    if p1[1]-p2[1] != 0:\n",
    "        m = (p1[1]-p2[1])/(p1[0]-p2[0])\n",
    "        y = m*(x-p1[0])+p1[1]\n",
    "        plt.plot(x,y, '--')\n",
    "    else:\n",
    "        y = np.ones(len(x))*p1[1]\n",
    "        plt.plot(x,y, '--')\n",
    "\n",
    "def plot_path(path):\n",
    "    for t in range(len(path)-1):\n",
    "        p1 = path[t]\n",
    "        p2 = path[t+1]\n",
    "        p = np.array([p1[0], p2[0]])\n",
    "        plot_line(p1,p2,p)\n",
    "        \n",
    "# path = np.array([[1,0], [2,1], [4,5],[6,5]])\n",
    "# plot_path(path)"
   ]
  },
  {
   "cell_type": "markdown",
   "id": "9bcc82d9",
   "metadata": {},
   "source": [
    "## distance term"
   ]
  },
  {
   "cell_type": "code",
   "execution_count": 75,
   "id": "31f9f63a",
   "metadata": {
    "scrolled": true
   },
   "outputs": [
    {
     "data": {
      "image/png": "[encoded data removed]",
      "text/plain": [
       "<Figure size 432x288 with 1 Axes>"
      ]
     },
     "metadata": {
      "needs_background": "light"
     },
     "output_type": "display_data"
    }
   ],
   "source": [
    "import numpy as np\n",
    "from numpy.linalg import norm\n",
    "import matplotlib.pyplot as plt\n",
    "%matplotlib inline\n",
    "#hyper parameters\n",
    "kd = 1\n",
    "learning_rate = 0.5\n",
    "\n",
    "#initial parameters\n",
    "initial_pos = np.array([0,1])\n",
    "p1 = np.array([1,0])\n",
    "p2 = np.array([2,1])\n",
    "p = p2-p1\n",
    "n = np.array([-p[1],p[0]])\n",
    "n_hat = n/norm(n)\n",
    "pt = initial_pos\n",
    "dt = 0.5\n",
    "initial_velocity = 1\n",
    "initial_theta = 0\n",
    "\n",
    "car = Car(initial_pos, initial_theta, initial_velocity)\n",
    "\n",
    "# positions = [initial_pos]\n",
    "losses = []\n",
    "plt.scatter(initial_pos[0], initial_pos[1])\n",
    "\n",
    "for t in range(50):\n",
    "    theta = car.get_direction()\n",
    "    velocity = car.velocity\n",
    "    v_hat = np.array([np.cos(theta), np.sin(theta)])\n",
    "    v = velocity*v_hat\n",
    "    p_next = car.next_position(dt)\n",
    "    c = p1-p_next\n",
    "    d_tilda = c@n_hat\n",
    "    d = abs(d_tilda)\n",
    "    ld_grad = velocity*dt*np.sign(d_tilda)*(n_hat[0]*np.sin(theta)-n_hat[1]*np.cos(theta))\n",
    "    new_theta = theta-learning_rate*ld_grad\n",
    "    loss_d = d\n",
    "    losses.append(d)\n",
    "    \n",
    "    car.set_direction(new_theta)\n",
    "    p_next = car.next_position(dt)\n",
    "    car.update_position(dt)\n",
    "    plt.scatter(p_next[0], p_next[1], c='b')\n",
    "    \n",
    "\n",
    "\n",
    "last_position = car.position\n",
    "\n",
    "plot_line(p1,p2,[-5,last_position[0]+3])"
   ]
  },
  {
   "cell_type": "code",
   "execution_count": 86,
   "id": "f2b22148",
   "metadata": {},
   "outputs": [
    {
     "data": {
      "text/plain": [
       "Text(0.5, 1.0, 'distance loss')"
      ]
     },
     "execution_count": 86,
     "metadata": {},
     "output_type": "execute_result"
    },
    {
     "data": {
      "image/png": "[encoded data removed]",
      "text/plain": [
       "<Figure size 432x288 with 1 Axes>"
      ]
     },
     "metadata": {
      "needs_background": "light"
     },
     "output_type": "display_data"
    }
   ],
   "source": [
    "losses = np.array(losses)\n",
    "plt.plot(losses)\n",
    "plt.xlabel(\"itteration\")\n",
    "plt.ylabel(\"loss\")\n",
    "plt.title(\"distance loss\")"
   ]
  },
  {
   "cell_type": "markdown",
   "id": "af13effd",
   "metadata": {},
   "source": [
    "## usign curretn distance"
   ]
  },
  {
   "cell_type": "code",
   "execution_count": 93,
   "id": "3dd5c44b",
   "metadata": {},
   "outputs": [
    {
     "data": {
      "image/png": "[encoded data removed]",
      "text/plain": [
       "<Figure size 432x288 with 1 Axes>"
      ]
     },
     "metadata": {
      "needs_background": "light"
     },
     "output_type": "display_data"
    }
   ],
   "source": [
    "import numpy as np\n",
    "from numpy.linalg import norm\n",
    "import matplotlib.pyplot as plt\n",
    "%matplotlib inline\n",
    "#hyper parameters\n",
    "kd = 1\n",
    "learning_rate = 0.1\n",
    "w = 0.5\n",
    "\n",
    "#initial parameters\n",
    "initial_pos = np.array([0,1])\n",
    "p1 = np.array([1,0])\n",
    "p2 = np.array([2,1])\n",
    "p = p2-p1\n",
    "n = np.array([-p[1],p[0]])\n",
    "n_hat = n/norm(n)\n",
    "pt = initial_pos\n",
    "dt = 0.5\n",
    "initial_velocity = 1\n",
    "initial_theta = 0\n",
    "\n",
    "car = Car(initial_pos, initial_theta, initial_velocity)\n",
    "losses = []\n",
    "# positions = [initial_pos]\n",
    "plt.scatter(initial_pos[0], initial_pos[1])\n",
    "\n",
    "for t in range(50):\n",
    "    pt = car.position.copy()\n",
    "    theta = car.get_direction()\n",
    "    velocity = car.velocity\n",
    "    v_hat = np.array([np.cos(theta), np.sin(theta)])\n",
    "    v = velocity*v_hat\n",
    "    p_next = car.next_position(dt)\n",
    "    c = p1-p_next\n",
    "    d_tilda = c@n_hat\n",
    "    d = abs(d_tilda)\n",
    "    \n",
    "    theta_l = np.arctan(p[1]/p[0])\n",
    "    theta_error_tilda = theta-theta_l\n",
    "    theta_error = abs(theta_error_tilda)\n",
    "    ct = p1 - pt\n",
    "    distance_t_tilda = ct@n_hat\n",
    "    distance_t = abs(theta_error_tilda)\n",
    "    \n",
    "    \n",
    "    \n",
    "    ld_grad = velocity*dt*np.sign(d_tilda)*(n_hat[0]*np.sin(theta)-n_hat[1]*np.cos(theta))\n",
    "    la_grad = np.exp(-w*distance_t)*np.sign(theta_error_tilda)\n",
    "    \n",
    "    loss_d = d\n",
    "    loss_angle = theta_error*np.exp(-w*d)\n",
    "    losses.append(loss_angle)\n",
    "    \n",
    "    new_theta = theta-learning_rate*la_grad\n",
    "    \n",
    "    car.set_direction(new_theta)\n",
    "    p_next = car.next_position(dt)\n",
    "    car.update_position(dt)\n",
    "    plt.scatter(p_next[0], p_next[1], c='b')\n",
    "    \n",
    "\n",
    "\n",
    "\n",
    "\n",
    "last_position = car.position\n",
    "\n",
    "plot_line(p1,p2,[-5,last_position[0]+3])"
   ]
  },
  {
   "cell_type": "code",
   "execution_count": 94,
   "id": "37e28cbe",
   "metadata": {},
   "outputs": [
    {
     "data": {
      "text/plain": [
       "Text(0.5, 1.0, 'angle loss')"
      ]
     },
     "execution_count": 94,
     "metadata": {},
     "output_type": "execute_result"
    },
    {
     "data": {
      "image/png": "[encoded data removed]",
      "text/plain": [
       "<Figure size 432x288 with 1 Axes>"
      ]
     },
     "metadata": {
      "needs_background": "light"
     },
     "output_type": "display_data"
    }
   ],
   "source": [
    "losses = np.array(losses)\n",
    "plt.plot(losses)\n",
    "plt.xlabel(\"itteration\")\n",
    "plt.ylabel(\"loss\")\n",
    "plt.title(\"angle loss\")"
   ]
  },
  {
   "cell_type": "markdown",
   "id": "8ca2d327",
   "metadata": {},
   "source": [
    "## Combain the losses"
   ]
  },
  {
   "cell_type": "code",
   "execution_count": 104,
   "id": "1992d7ce",
   "metadata": {},
   "outputs": [
    {
     "data": {
      "image/png": "[encoded data removed]",
      "text/plain": [
       "<Figure size 432x288 with 1 Axes>"
      ]
     },
     "metadata": {
      "needs_background": "light"
     },
     "output_type": "display_data"
    }
   ],
   "source": [
    "import numpy as np\n",
    "from numpy.linalg import norm\n",
    "import matplotlib.pyplot as plt\n",
    "%matplotlib inline\n",
    "#hyper parameters\n",
    "kd = 0.5\n",
    "ka = 1\n",
    "w = 1/5\n",
    "\n",
    "learning_rate = 0.1\n",
    "\n",
    "\n",
    "#initial parameters\n",
    "initial_pos = np.array([0,1])\n",
    "initial_pos = np.array([-3,3])\n",
    "p1 = np.array([1,0])\n",
    "p2 = np.array([2,1])\n",
    "p = p2-p1\n",
    "n = np.array([-p[1],p[0]])\n",
    "n_hat = n/norm(n)\n",
    "pt = initial_pos\n",
    "dt = 1\n",
    "initial_velocity = 1\n",
    "initial_theta = 0\n",
    "\n",
    "car = Car(initial_pos, initial_theta, initial_velocity)\n",
    "losses = []\n",
    "# positions = [initial_pos]\n",
    "plt.scatter(initial_pos[0], initial_pos[1])\n",
    "\n",
    "for t in range(20):\n",
    "    pt = car.position.copy()\n",
    "    theta = car.get_direction()\n",
    "    velocity = car.velocity\n",
    "    v_hat = np.array([np.cos(theta), np.sin(theta)])\n",
    "    v = velocity*v_hat\n",
    "    p_next = car.next_position(dt)\n",
    "    c = p1-p_next\n",
    "    d_tilda = c@n_hat\n",
    "    d = abs(d_tilda)\n",
    "    \n",
    "    theta_l = np.arctan(p[1]/p[0])\n",
    "    theta_error_tilda = theta-theta_l\n",
    "    theta_error = abs(theta_error_tilda)\n",
    "    ct = p1 - pt\n",
    "    distance_t_tilda = ct@n_hat\n",
    "    distance_t = abs(theta_error_tilda)\n",
    "    \n",
    "    \n",
    "    \n",
    "    ld_grad = velocity*dt*np.sign(d_tilda)*(n_hat[0]*np.sin(theta)-n_hat[1]*np.cos(theta))\n",
    "    la_grad = np.exp(-w*distance_t)*np.sign(theta_error_tilda)\n",
    "    grad = ka*la_grad+kd*ld_grad\n",
    "    \n",
    "    loss_d = d\n",
    "    loss_angle = theta_error*np.exp(-w*d)\n",
    "    loss = ka*loss_angle+kd*loss_d\n",
    "    losses.append(loss)\n",
    "    \n",
    "    new_theta = theta-learning_rate*grad\n",
    "    \n",
    "    car.set_direction(new_theta)\n",
    "    p_next = car.next_position(dt)\n",
    "    car.update_position(dt)\n",
    "    plt.scatter(p_next[0], p_next[1], c='b')\n",
    "    \n",
    "\n",
    "\n",
    "\n",
    "last_position = car.position\n",
    "\n",
    "plot_line(p1,p2,[-5,last_position[0]+3])"
   ]
  },
  {
   "cell_type": "code",
   "execution_count": 105,
   "id": "e02adc8f",
   "metadata": {
    "scrolled": false
   },
   "outputs": [
    {
     "data": {
      "text/plain": [
       "Text(0.5, 1.0, 'loss')"
      ]
     },
     "execution_count": 105,
     "metadata": {},
     "output_type": "execute_result"
    },
    {
     "data": {
      "image/png": "[encoded data removed]",
      "text/plain": [
       "<Figure size 432x288 with 1 Axes>"
      ]
     },
     "metadata": {
      "needs_background": "light"
     },
     "output_type": "display_data"
    }
   ],
   "source": [
    "losses = np.array(losses)\n",
    "plt.plot(losses)\n",
    "plt.xlabel(\"itteration\")\n",
    "plt.ylabel(\"loss\")\n",
    "plt.title(\"loss\")"
   ]
  },
  {
   "cell_type": "markdown",
   "id": "c58e4c5d",
   "metadata": {},
   "source": [
    "## Now try path"
   ]
  },
  {
   "cell_type": "code",
   "execution_count": 213,
   "id": "68dad94d",
   "metadata": {},
   "outputs": [
    {
     "data": {
      "text/plain": [
       "False"
      ]
     },
     "execution_count": 213,
     "metadata": {},
     "output_type": "execute_result"
    }
   ],
   "source": [
    "def point_distance(p1, p2):\n",
    "    return norm(p2-p1)\n",
    "\n",
    "def line_point_distance(p1, p2, point):\n",
    "    p = p2-p1\n",
    "    n = np.array([-p[1],p[0]])\n",
    "    n_hat = n/norm(n)\n",
    "    return point@n_hat\n",
    "    \n",
    "def passed_section(p1, p2, point):\n",
    "    p = p2-p1\n",
    "    p3 = p2-point\n",
    "    return p@p3 < 0\n",
    "\n",
    "def find_next_section(path, position,current_index, threshold):\n",
    "    if current_index == len(path)-2:\n",
    "        return current_index\n",
    "    if passed_section(path[current_index], path[current_index+1], position):\n",
    "        return current_index + 1\n",
    "    return index+1\n",
    "#     if point_distance(position, path[current_index] > threshold):\n",
    "#         return current_index\n",
    "#     return current_index+1\n",
    "\n",
    "p1= np.array([0,0])\n",
    "p2 = np.array([1,1])\n",
    "p = np.array([0,0])\n",
    "passed_section(p1, p2, p)"
   ]
  },
  {
   "cell_type": "code",
   "execution_count": 222,
   "id": "7db653ec",
   "metadata": {
    "scrolled": true
   },
   "outputs": [
    {
     "data": {
      "image/png": "[encoded data removed]",
      "text/plain": [
       "<Figure size 432x288 with 1 Axes>"
      ]
     },
     "metadata": {
      "needs_background": "light"
     },
     "output_type": "display_data"
    }
   ],
   "source": [
    "import numpy as np\n",
    "from numpy.linalg import norm\n",
    "import matplotlib.pyplot as plt\n",
    "%matplotlib inline\n",
    "#hyper parameters\n",
    "loss_ratio = 0.8\n",
    "kd = loss_ratio\n",
    "ka = 1-loss_ratio\n",
    "w = 1\n",
    "\n",
    "learning_rate = 1\n",
    "\n",
    "\n",
    "#initial parameters\n",
    "path = np.array([[1,0], [2,1], [4,5],[6,5]])\n",
    "\n",
    "\n",
    "initial_pos = np.array([0,0])\n",
    "pt = initial_pos\n",
    "dt = 0.1\n",
    "initial_velocity = 1\n",
    "initial_theta = 0\n",
    "\n",
    "car = Car(initial_pos, initial_theta, initial_velocity)\n",
    "losses = []\n",
    "# positions = [initial_pos]\n",
    "plt.scatter(initial_pos[0], initial_pos[1])\n",
    "\n",
    "i = 0\n",
    "index = 0\n",
    "for t in range(100):\n",
    "    index = find_next_section(path, pt,index, 0.5)\n",
    "#     print(index)\n",
    "    if index >= len(path)-1:\n",
    "        index = len(path) - 2\n",
    "    i = index\n",
    "\n",
    "    p1 = path[i]\n",
    "    p2 = path[i+1]\n",
    "    p = p2-p1\n",
    "    n = np.array([-p[1],p[0]])\n",
    "    n_hat = n/norm(n)\n",
    "\n",
    "    pt = car.position.copy()\n",
    "    theta = car.get_direction()\n",
    "    velocity = car.velocity\n",
    "    \n",
    "\n",
    "    \n",
    "    \n",
    "    v_hat = np.array([np.cos(theta), np.sin(theta)])\n",
    "    v = velocity*v_hat\n",
    "    p_next = car.next_position(dt)\n",
    "    c = p1-p_next\n",
    "    d_tilda = c@n_hat\n",
    "    d = abs(d_tilda)\n",
    "    \n",
    "    theta_l = np.arctan(p[1]/p[0])\n",
    "    theta_error_tilda = theta-theta_l\n",
    "    theta_error = abs(theta_error_tilda)\n",
    "    ct = p1 - pt\n",
    "    distance_t_tilda = ct@n_hat\n",
    "    distance_t = abs(theta_error_tilda)\n",
    "    \n",
    "    \n",
    "    \n",
    "    ld_grad = velocity*dt*np.sign(d_tilda)*(n_hat[0]*np.sin(theta)-n_hat[1]*np.cos(theta))\n",
    "    la_grad = np.exp(-w*distance_t)*np.sign(theta_error_tilda)\n",
    "    grad = ka*la_grad+kd*ld_grad\n",
    "    \n",
    "    loss_d = d\n",
    "    loss_angle = theta_error*np.exp(-w*d)\n",
    "    loss = ka*loss_angle+kd*loss_d\n",
    "    losses.append(loss)\n",
    "    \n",
    "    new_theta = theta-learning_rate*grad\n",
    "    \n",
    "    car.set_direction(new_theta)\n",
    "    p_next = car.next_position(dt)\n",
    "    car.update_position(dt)\n",
    "    plt.scatter(p_next[0], p_next[1], c='b', s=0.5)\n",
    "    \n",
    "\n",
    "\n",
    "\n",
    "last_position = car.position\n",
    "\n",
    "# plot_line(path[i],path[i+1],[0,last_position[0]+3])\n",
    "\n",
    "plot_path(path)"
   ]
  },
  {
   "cell_type": "code",
   "execution_count": null,
   "id": "bbbc9447",
   "metadata": {},
   "outputs": [],
   "source": []
  },
  {
   "cell_type": "code",
   "execution_count": null,
   "id": "b963b6b6",
   "metadata": {},
   "outputs": [],
   "source": []
  },
  {
   "cell_type": "code",
   "execution_count": null,
   "id": "a95220b6",
   "metadata": {},
   "outputs": [],
   "source": []
  },
  {
   "cell_type": "code",
   "execution_count": null,
   "id": "3d281914",
   "metadata": {},
   "outputs": [],
   "source": []
  },
  {
   "cell_type": "markdown",
   "id": "b009d524",
   "metadata": {},
   "source": [
    "# Trapezoidal velocity profile"
   ]
  },
  {
   "cell_type": "code",
   "execution_count": null,
   "id": "10da65ba",
   "metadata": {},
   "outputs": [],
   "source": []
  },
  {
   "cell_type": "code",
   "execution_count": null,
   "id": "0ab6a2c4",
   "metadata": {},
   "outputs": [],
   "source": []
  }
 ],
 "metadata": {
  "kernelspec": {
   "display_name": "Python 3 (ipykernel)",
   "language": "python",
   "name": "python3"
  },
  "language_info": {
   "codemirror_mode": {
    "name": "ipython",
    "version": 3
   },
   "file_extension": ".py",
   "mimetype": "text/x-python",
   "name": "python",
   "nbconvert_exporter": "python",
   "pygments_lexer": "ipython3",
   "version": "3.9.7"
  }
 },
 "nbformat": 4,
 "nbformat_minor": 5
}
