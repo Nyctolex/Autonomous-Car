{
 "cells": [
  {
   "cell_type": "code",
   "execution_count": 520,
   "id": "7b1d640e",
   "metadata": {},
   "outputs": [],
   "source": [
    "import numpy as np\n",
    "import pandas as pd \n",
    "import matplotlib.pyplot as plt\n",
    "import math\n",
    "import json\n",
    "from math import atan2\n",
    "from numpy.linalg import norm\n",
    "%matplotlib inline"
   ]
  },
  {
   "cell_type": "code",
   "execution_count": 612,
   "id": "c37c36dc",
   "metadata": {},
   "outputs": [],
   "source": [
    "def pvec(vec, color='b', label=None):\n",
    "    vec = np.array(vec)\n",
    "    plt.arrow(0, 0, vec[0],vec[1], width=0.01, color=color, label=label)\n",
    "\n",
    "def non_negative_angle(angle: float) -> float:\n",
    "    if angle > 0:\n",
    "        return angle\n",
    "    return 2*np.pi + angle\n",
    "    \n",
    "def inner_angle(v1, v2=None):\n",
    "    angle1 = non_negative_angle(math.atan2(v1[1], v1[0]))\n",
    "    if v2 is None:\n",
    "        return angle1\n",
    "    angle2 = non_negative_angle(math.atan2(v2[1], v2[0]))\n",
    "    return max(angle1, angle2) - min(angle1, angle2)\n",
    "\n",
    "def v1_right_to_v2(v1, v2):\n",
    "    cross_product = np.cross(v2, v1)\n",
    "    return cross_product > 0\n",
    "\n",
    "ar = lambda *vec: np.array(vec)\n",
    "\n",
    "\n",
    "\n",
    "def normal_vector(v1, v2):\n",
    "    v2 - v1@v2\n",
    "    v1 = np.array(v1)\n",
    "    v2 = np.array(v2)\n",
    "    v3 = np.array([-v1[1], v1[0]])  # create a vector perpendicular to v2\n",
    "    dot = np.dot(v2, v3)\n",
    "    if dot > 0:\n",
    "        v3 = -v3  # flip the vector if it points in the wrong direction\n",
    "    return v3\n",
    "\n",
    "\n",
    "def angle_to_normal(v1, v2):\n",
    "    n = normal_vector(v1, v2)\n",
    "    angle = vangle(v2, n)\n",
    "    if np.cross(v2, v1) > 0:\n",
    "        if angle < 0:\n",
    "            return 2*np.pi + angle\n",
    "        return  angle\n",
    "    \n",
    "    if angle > 0:\n",
    "        return angle - 2*np.pi\n",
    "    return angle\n"
   ]
  },
  {
   "cell_type": "code",
   "execution_count": 511,
   "id": "2848006e",
   "metadata": {},
   "outputs": [],
   "source": [
    "import matplotlib.pyplot as plt\n",
    "from matplotlib.patches import Arc\n",
    "\n",
    "def plot_arc(start_angle, end_angle, radius=0.5, center=(0, 0), **kwargs):\n",
    "    fig, ax = plt.subplots()\n",
    "    radius = 0.5\n",
    "    if start_angle > end_angle:\n",
    "        arc= Arc((0,0), radius*2, radius*2, angle=0, theta1=end_angle, theta2=start_angle)\n",
    "    else:\n",
    "        arc= Arc((0,0), radius*2, radius*2, angle=0, theta1=start_angle, theta2=end_angle)\n",
    "    ax.add_patch(arc)\n",
    "\n",
    "def rotate_vector(v, theta):\n",
    "    theta = np.radians(theta)  # convert degrees to radians\n",
    "    c = np.cos(theta)\n",
    "    s = np.sin(theta)\n",
    "    rotation_matrix = np.array([[c, -s], [s, c]])\n",
    "    return np.dot(rotation_matrix, v)\n",
    "\n"
   ]
  },
  {
   "cell_type": "code",
   "execution_count": 570,
   "id": "81306877",
   "metadata": {},
   "outputs": [],
   "source": [
    "def angle_between_vectors(a, b):\n",
    "    cos_theta = np.dot(a, b) / (np.linalg.norm(a) * np.linalg.norm(b))\n",
    "    theta = np.arccos(cos_theta)\n",
    "    return theta*180/np.pi\n"
   ]
  },
  {
   "cell_type": "code",
   "execution_count": 673,
   "id": "264747a9",
   "metadata": {},
   "outputs": [
    {
     "name": "stdout",
     "output_type": "stream",
     "text": [
      "\n",
      "179.0\n"
     ]
    },
    {
     "data": {
      "text/plain": [
       "<Figure size 360x288 with 0 Axes>"
      ]
     },
     "metadata": {},
     "output_type": "display_data"
    },
    {
     "data": {
      "image/png": "[encoded data removed]",
      "text/plain": [
       "<Figure size 432x288 with 1 Axes>"
      ]
     },
     "metadata": {
      "needs_background": "light"
     },
     "output_type": "display_data"
    }
   ],
   "source": [
    "def non_negative_angle(angle: float) -> float:\n",
    "    if angle > 0:\n",
    "        return angle\n",
    "    return 2*np.pi + angle\n",
    "\n",
    "def inan(v1, v2=None):\n",
    "    angle1 = non_negative_angle(math.atan2(v1[1], v1[0]))\n",
    "    if v2 is None:\n",
    "        return angle1\n",
    "    angle2 = non_negative_angle(math.atan2(v2[1], v2[0]))\n",
    "    angle = max(angle1, angle2) - min(angle1, angle2)\n",
    "    print()\n",
    "    if angle < np.pi:\n",
    "        return angle\n",
    "    return 2*np.pi - angle\n",
    "\n",
    "\n",
    "plt.figure().set_figwidth(5)\n",
    "\n",
    "p = ar(1,0)\n",
    "v= ar(1,0)\n",
    "a = 90\n",
    "p = rotate_vector(p, a)\n",
    "v = rotate_vector(v, a+181)\n",
    "\n",
    "print(inan(v, p)*180/np.pi)\n",
    "\n",
    "phat = p/norm(p)\n",
    "vhat = v/norm(v)\n",
    "n = normal_vector(p, v)\n",
    "n = -vector_from_line_to_point(p, v)\n",
    "\n",
    "\n",
    "\n",
    "\n",
    "theta1 = vangle(v)*180/np.pi\n",
    "theta2 = theta1 +angle_to_normal(p, v)*180/np.pi\n",
    "plot_arc(theta1, theta2)\n",
    "pvec(p, 'b', \"p\")\n",
    "pvec(v, 'k', \"v\")\n",
    "pvec(n, \"r\" ,\"n\")\n",
    "plt.legend()\n",
    "\n",
    "\n",
    "# print(vangle(p, v)*180/np.pi)\n",
    "\n",
    "plt.xlim([-2,2])\n",
    "plt.ylim([-2,2])\n",
    "\n",
    "inners = []\n",
    "# for i in range(361):\n",
    "#     for j in range(1, 179):\n",
    "#         p = ar(1,0)\n",
    "#         v= ar(1,0)\n",
    "#         p = rotate_vector(p, i)\n",
    "#         v = rotate_vector(v, i-j)\n",
    "#         inners.append(inner(v, p))\n"
   ]
  },
  {
   "cell_type": "code",
   "execution_count": null,
   "id": "a187ba08",
   "metadata": {},
   "outputs": [],
   "source": []
  },
  {
   "cell_type": "code",
   "execution_count": null,
   "id": "4ab29a05",
   "metadata": {},
   "outputs": [],
   "source": []
  },
  {
   "cell_type": "code",
   "execution_count": null,
   "id": "7b3bfa50",
   "metadata": {},
   "outputs": [],
   "source": []
  },
  {
   "cell_type": "code",
   "execution_count": null,
   "id": "5ac06f9c",
   "metadata": {},
   "outputs": [],
   "source": []
  },
  {
   "cell_type": "code",
   "execution_count": null,
   "id": "42c66e1e",
   "metadata": {},
   "outputs": [],
   "source": []
  },
  {
   "cell_type": "code",
   "execution_count": 683,
   "id": "74eb1420",
   "metadata": {},
   "outputs": [
    {
     "data": {
      "text/plain": [
       "False"
      ]
     },
     "execution_count": 683,
     "metadata": {},
     "output_type": "execute_result"
    },
    {
     "data": {
      "image/png": "[encoded data removed]",
      "text/plain": [
       "<Figure size 432x288 with 1 Axes>"
      ]
     },
     "metadata": {
      "needs_background": "light"
     },
     "output_type": "display_data"
    }
   ],
   "source": [
    "def plot_line(p1,p2,x_scale):\n",
    "    p1 = np.array(p1)\n",
    "    p2 = np.array(p2)\n",
    "    p = p2-p1\n",
    "    x_min = x_scale[0]\n",
    "    x_max = x_scale[1]\n",
    "    x = np.linspace(x_min, x_max)\n",
    "    if p1[1]-p2[1] != 0:\n",
    "        m = (p1[1]-p2[1])/(p1[0]-p2[0])\n",
    "        y = m*(x-p1[0])+p1[1]\n",
    "        plt.plot(x,y, '--')\n",
    "    else:\n",
    "        y = np.ones(len(x))*p1[1]\n",
    "        plt.plot(x,y, '--')\n",
    "        \n",
    "\n",
    "def clock_wise_angle(p1, p2, point):\n",
    "    p = p2-p1\n",
    "    n = np.array([-p[1],p[0]])\n",
    "    n_hat = n/norm(n)\n",
    "    return point@n_hat < 0\n",
    "\n",
    "def plot_vec(vec, point=np.array([0,0]),color='m', width=0.05):\n",
    "    point = np.array(point)\n",
    "    vec = np.array(vec)\n",
    "    projection = point+vec\n",
    "    plt.arrow(point[0], point[1], projection[0] - point[0], projection[1] - point[1], width=width, color=color, label='Vector')\n",
    "\n",
    "    \n",
    "point = ar(1,-2)\n",
    "p1 = ar(0,0)\n",
    "p2 =  ar(-1,1)\n",
    "p = p2-p1\n",
    "plot_line(p1,p2, [-2,2])\n",
    "plt.scatter(point[0], point[1])\n",
    "plot_vec(p, p1)\n",
    "point_abouve_line(p1, p2, point)"
   ]
  },
  {
   "cell_type": "code",
   "execution_count": null,
   "id": "1bc901e9",
   "metadata": {},
   "outputs": [],
   "source": [
    "import numpy as np\n",
    "from numpy.linalg import norm\n",
    "import matplotlib.pyplot as plt\n",
    "%matplotlib inline\n",
    "#hyper parameters\n",
    "dt = 1\n",
    "learning_rate = 0.1\n",
    "\n",
    "#initial parameters\n",
    "initial_velocity = 0.5\n",
    "initial_theta = 0\n",
    "initial_pos = np.array([0,-2])\n",
    "p1 = np.array([0,0])\n",
    "p2 = np.array([1,11])\n",
    "line = np.array([p1, p2])\n",
    "p = p2-p1\n",
    "pvec(p, \"r\")\n",
    "plt.scatter(initial_pos[0], initial_pos[1])\n",
    "car = Car(initial_pos, initial_theta, initial_velocity)\n",
    "\n",
    "plot_line(p1, p2, [-1,1])\n",
    "car_path = [initial_pos]\n",
    "\n",
    "for t in range(20):\n",
    "    theta = car.get_direction()\n",
    "    velocity = car.velocity\n",
    "    v_hat = np.array([np.cos(theta), np.sin(theta)])\n",
    "    v = velocity*v_hat\n",
    "\n",
    "    d = abs(line_point_distance(p1, p2, car.position))\n",
    "    n = normal_from_other_side(p, car.position)\n",
    "    d_theta = distance_controller(car.position, v, line)\n",
    "    w = 5\n",
    "    proportional = (w*d/(w*d+1))\n",
    "    new_theta =theta + d_theta* proportional\n",
    "#     print(f'v right to p {v1_right_to_v2(v, p)}')\n",
    "#     print(f'v right to n {v1_right_to_v2(v, n)}')\n",
    "#     print(f'final theta {int(d_theta*180/np.pi)}')\n",
    "#     print(f'is_clock_wise_angle {is_clock_wise_angle(line[0], line[1],  car.position)}')\n",
    "    \n",
    "    \n",
    "    \n",
    "    n = n/norm(n)/2\n",
    "#     plot_vec(n, car.position, width=0.01)\n",
    "#     plot_vec(v/norm(v)*0.15, car.position, color='b', width=0.01)\n",
    "#     angle = vangle(v, n)\n",
    "#     plot_arc(theta*180/np.pi, (theta +1*distance_controller(car.position, v, line))*180/np.pi ,center=car.position, radius=0.2)\n",
    "    \n",
    "    \n",
    "    car.set_direction(new_theta)\n",
    "    car.update_position(dt)\n",
    "    car_path.append(car.position)\n",
    "    \n",
    "    \n",
    "    \n",
    "#     theta = car.get_direction()\n",
    "#     velocity = car.velocity\n",
    "#     v_hat = np.array([np.cos(theta), np.sin(theta)])\n",
    "#     v = velocity*v_hat\n",
    "#     n = vector_from_line_to_point(p, car.position)\n",
    "\n",
    "    \n",
    "car_path  =np.array(car_path)\n",
    "plt.plot(car_path[:,0], car_path[:,1])\n"
   ]
  }
 ],
 "metadata": {
  "kernelspec": {
   "display_name": "Python 3 (ipykernel)",
   "language": "python",
   "name": "python3"
  },
  "language_info": {
   "codemirror_mode": {
    "name": "ipython",
    "version": 3
   },
   "file_extension": ".py",
   "mimetype": "text/x-python",
   "name": "python",
   "nbconvert_exporter": "python",
   "pygments_lexer": "ipython3",
   "version": "3.9.7"
  }
 },
 "nbformat": 4,
 "nbformat_minor": 5
}
